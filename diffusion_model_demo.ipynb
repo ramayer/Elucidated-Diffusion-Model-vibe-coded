{
 "cells": [
  {
   "cell_type": "markdown",
   "id": "f4ccbd02",
   "metadata": {},
   "source": [
    "# Compare and contrast Denoising Diffusion Probabilistic Model (DDPM) models vs Elucidated Diffusion Models\n",
    "\n",
    "This notebook implements the EDM (Elucidated Diffusion Model) described in the paper (2206.00364v2.pdf).\n",
    "\n",
    "It will implement both a baseline DDPM and a EDM using PyTorch and contrast the results."
   ]
  },
  {
   "cell_type": "markdown",
   "id": "677ba9c7",
   "metadata": {},
   "source": [
    "## 1. Install and Import Required Libraries\n",
    "\n",
    "We will use PyTorch, torchvision, numpy, matplotlib, and tqdm. If running locally, ensure these packages are installed."
   ]
  },
  {
   "cell_type": "code",
   "execution_count": 1,
   "id": "c43048b7",
   "metadata": {},
   "outputs": [],
   "source": [
    "# Install required packages (uncomment if running in a new environment)\n",
    "# !pip install torch torchvision matplotlib tqdm numpy\n",
    "\n",
    "import torch\n",
    "import torch.nn as nn\n",
    "import torch.nn.functional as F\n",
    "import torch.optim as optim\n",
    "from torch.utils.data import DataLoader\n",
    "import torchvision\n",
    "import torchvision.transforms as transforms\n",
    "import matplotlib.pyplot as plt\n",
    "import numpy as np\n",
    "from tqdm import tqdm"
   ]
  },
  {
   "cell_type": "code",
   "execution_count": 43,
   "id": "8f37695f",
   "metadata": {},
   "outputs": [],
   "source": [
    "device = torch.device('cuda' if torch.cuda.is_available() else 'cpu')"
   ]
  },
  {
   "cell_type": "markdown",
   "id": "cff4c915",
   "metadata": {},
   "source": [
    "## 2. Load and Preprocess Dataset\n",
    "\n",
    "We will use the MNIST dataset for demonstration. The images will be normalized to [-1, 1] as required by most diffusion models."
   ]
  },
  {
   "cell_type": "code",
   "execution_count": 2,
   "id": "d39f9257",
   "metadata": {},
   "outputs": [
    {
     "data": {
      "image/png": "[encoded data removed]",
      "text/plain": [
       "<Figure size 1200x200 with 8 Axes>"
      ]
     },
     "metadata": {},
     "output_type": "display_data"
    }
   ],
   "source": [
    "# Load and preprocess MNIST dataset (28x28, standard U-Net)\n",
    "def scale_to_minus_one_to_one(x):\n",
    "    return x * 2. - 1.\n",
    "\n",
    "transform = transforms.Compose([\n",
    "    transforms.ToTensor(),\n",
    "    transforms.Lambda(scale_to_minus_one_to_one)  # Scale to [-1, 1]\n",
    "])\n",
    "\n",
    "batch_size = 128\n",
    "train_dataset = torchvision.datasets.MNIST(root='./data', train=True, download=True, transform=transform)\n",
    "train_loader = DataLoader(train_dataset, batch_size=batch_size, shuffle=True, num_workers=0)\n",
    "\n",
    "# Visualize a batch\n",
    "examples = [train_dataset[i][0] for i in range(8)]\n",
    "fig, axes = plt.subplots(1, 8, figsize=(12, 2))\n",
    "for i, img in enumerate(examples):\n",
    "    axes[i].imshow(img.squeeze().numpy(), cmap='gray')\n",
    "    axes[i].axis('off')\n",
    "plt.show()"
   ]
  },
  {
   "cell_type": "markdown",
   "id": "4cf3e8ab",
   "metadata": {},
   "source": [
    "## 3. Define the Diffusion Model Architecture\n",
    "\n",
    "We will use a simple U-Net-like architecture suitable for MNIST. For more complex datasets, a deeper U-Net or transformer-based model may be used."
   ]
  },
  {
   "cell_type": "code",
   "execution_count": 3,
   "id": "f635d382",
   "metadata": {},
   "outputs": [
    {
     "name": "stdout",
     "output_type": "stream",
     "text": [
      "UNet28(\n",
      "  (time_mlp): Sequential(\n",
      "    (0): SinusoidalPosEmb()\n",
      "    (1): Linear(in_features=32, out_features=32, bias=True)\n",
      "    (2): ReLU()\n",
      "  )\n",
      "  (inc): Conv2d(1, 32, kernel_size=(3, 3), stride=(1, 1), padding=(1, 1))\n",
      "  (down1): Conv2d(32, 64, kernel_size=(4, 4), stride=(2, 2), padding=(1, 1))\n",
      "  (down2): Conv2d(64, 128, kernel_size=(4, 4), stride=(2, 2), padding=(1, 1))\n",
      "  (emb1): Linear(in_features=32, out_features=64, bias=True)\n",
      "  (emb2): Linear(in_features=32, out_features=128, bias=True)\n",
      "  (middle): Sequential(\n",
      "    (0): Conv2d(128, 128, kernel_size=(3, 3), stride=(1, 1), padding=(1, 1))\n",
      "    (1): ReLU()\n",
      "    (2): Conv2d(128, 128, kernel_size=(3, 3), stride=(1, 1), padding=(1, 1))\n",
      "    (3): ReLU()\n",
      "  )\n",
      "  (up2): ConvTranspose2d(128, 64, kernel_size=(4, 4), stride=(2, 2), padding=(1, 1))\n",
      "  (up1): ConvTranspose2d(128, 32, kernel_size=(4, 4), stride=(2, 2), padding=(1, 1))\n",
      "  (emb_up2): Linear(in_features=32, out_features=64, bias=True)\n",
      "  (emb_up1): Linear(in_features=32, out_features=32, bias=True)\n",
      "  (outc): Conv2d(64, 1, kernel_size=(1, 1), stride=(1, 1))\n",
      ")\n"
     ]
    }
   ],
   "source": [
    "# Standard U-Net with skip connections and timestep embedding for 28x28 images (fixed output channels)\n",
    "class SinusoidalPosEmb(nn.Module):\n",
    "    def __init__(self, dim):\n",
    "        super().__init__()\n",
    "        self.dim = dim\n",
    "    def forward(self, x):\n",
    "        device = x.device\n",
    "        half_dim = self.dim // 2\n",
    "        emb = np.log(10000) / (half_dim - 1)\n",
    "        emb = torch.exp(torch.arange(half_dim, device=device) * -emb)\n",
    "        emb = x[:, None] * emb[None, :]\n",
    "        emb = torch.cat([torch.sin(emb), torch.cos(emb)], dim=-1)\n",
    "        return emb\n",
    "\n",
    "class UNet28(nn.Module):\n",
    "    def __init__(self, emb_dim=32):\n",
    "        super().__init__()\n",
    "        self.time_mlp = nn.Sequential(\n",
    "            SinusoidalPosEmb(emb_dim),\n",
    "            nn.Linear(emb_dim, emb_dim),\n",
    "            nn.ReLU(),\n",
    "        )\n",
    "        self.inc = nn.Conv2d(1, 32, 3, padding=1)\n",
    "        self.down1 = nn.Conv2d(32, 64, 4, stride=2, padding=1)  # 28x28 -> 14x14\n",
    "        self.down2 = nn.Conv2d(64, 128, 4, stride=2, padding=1) # 14x14 -> 7x7\n",
    "        self.emb1 = nn.Linear(emb_dim, 64)\n",
    "        self.emb2 = nn.Linear(emb_dim, 128)\n",
    "        self.middle = nn.Sequential(\n",
    "            nn.Conv2d(128, 128, 3, padding=1), nn.ReLU(),\n",
    "            nn.Conv2d(128, 128, 3, padding=1), nn.ReLU()\n",
    "        )\n",
    "        self.up2 = nn.ConvTranspose2d(128, 64, 4, stride=2, padding=1) # 7x7 -> 14x14\n",
    "        self.up1 = nn.ConvTranspose2d(128, 32, 4, stride=2, padding=1) # 14x14 -> 28x28\n",
    "        self.emb_up2 = nn.Linear(emb_dim, 64)\n",
    "        self.emb_up1 = nn.Linear(emb_dim, 32)\n",
    "        self.outc = nn.Conv2d(64, 1, 1)  # 32+32=64 after concat\n",
    "    def forward(self, x, t):\n",
    "        if t.dim() == 1:\n",
    "            t = t.float()\n",
    "        else:\n",
    "            t = t.squeeze(-1).float()\n",
    "        emb = self.time_mlp(t)\n",
    "        x1 = F.relu(self.inc(x))\n",
    "        x2 = F.relu(self.down1(x1) + self.emb1(emb).unsqueeze(-1).unsqueeze(-1))\n",
    "        x3 = F.relu(self.down2(x2) + self.emb2(emb).unsqueeze(-1).unsqueeze(-1))\n",
    "        m = self.middle(x3)\n",
    "        u2 = F.relu(self.up2(m) + self.emb_up2(emb).unsqueeze(-1).unsqueeze(-1))\n",
    "        # Crop x2 to match u2 if needed\n",
    "        if u2.shape[-2:] != x2.shape[-2:]:\n",
    "            diffY = x2.size(-2) - u2.size(-2)\n",
    "            diffX = x2.size(-1) - u2.size(-1)\n",
    "            u2 = F.pad(u2, [diffX // 2, diffX - diffX // 2, diffY // 2, diffY - diffY // 2])\n",
    "        u2 = torch.cat([u2, x2], dim=1)\n",
    "        u1 = F.relu(self.up1(u2) + self.emb_up1(emb).unsqueeze(-1).unsqueeze(-1))\n",
    "        # Crop x1 to match u1 if needed\n",
    "        if u1.shape[-2:] != x1.shape[-2:]:\n",
    "            diffY = x1.size(-2) - u1.size(-2)\n",
    "            diffX = x1.size(-1) - u1.size(-1)\n",
    "            u1 = F.pad(u1, [diffX // 2, diffX - diffX // 2, diffY // 2, diffY - diffY // 2])\n",
    "        u1 = torch.cat([u1, x1], dim=1)\n",
    "        out = self.outc(u1)\n",
    "        return out\n",
    "\n",
    "model = UNet28().to(device)\n",
    "print(model)"
   ]
  },
  {
   "cell_type": "markdown",
   "id": "870bb5bb",
   "metadata": {},
   "source": [
    "## 4. Implement the Forward Diffusion Process\n",
    "\n",
    "The forward process gradually adds Gaussian noise to the data over a fixed number of timesteps."
   ]
  },
  {
   "cell_type": "code",
   "execution_count": 4,
   "id": "4ff1a628",
   "metadata": {},
   "outputs": [
    {
     "data": {
      "image/png": "[encoded data removed]",
      "text/plain": [
       "<Figure size 1000x200 with 4 Axes>"
      ]
     },
     "metadata": {},
     "output_type": "display_data"
    }
   ],
   "source": [
    "# Forward diffusion process\n",
    "T = 200  # Number of diffusion steps\n",
    "beta_start = 1e-4\n",
    "beta_end = 0.02\n",
    "betas = torch.linspace(beta_start, beta_end, T, device=device)\n",
    "alphas = 1. - betas\n",
    "alpha_bars = torch.cumprod(alphas, dim=0)\n",
    "\n",
    "def q_sample(x_start, t, noise=None):\n",
    "    if noise is None:\n",
    "        noise = torch.randn_like(x_start)\n",
    "    sqrt_alpha_bar = alpha_bars[t].sqrt().view(-1, 1, 1, 1)\n",
    "    sqrt_one_minus_alpha_bar = (1 - alpha_bars[t]).sqrt().view(-1, 1, 1, 1)\n",
    "    return sqrt_alpha_bar * x_start + sqrt_one_minus_alpha_bar * noise\n",
    "\n",
    "# Visualize noisy images at different timesteps\n",
    "x = torch.stack(examples[:4]).to(device)  # Convert the list of tensors to a single tensor\n",
    "timesteps = torch.tensor([0, T//4, T//2, T-1], device=device)\n",
    "noisy_imgs = [q_sample(x, t.repeat(x.size(0)), noise=None) for t in timesteps]  # Repeat t for the batch size\n",
    "fig, axes = plt.subplots(1, 4, figsize=(10, 2))\n",
    "for i, img in enumerate(noisy_imgs):\n",
    "    axes[i].imshow(img[0].squeeze().cpu().numpy(), cmap='gray')\n",
    "    axes[i].set_title(f\"t={timesteps[i].item()}\")\n",
    "    axes[i].axis('off')\n",
    "plt.show()"
   ]
  },
  {
   "cell_type": "markdown",
   "id": "a50a2a51",
   "metadata": {},
   "source": [
    "## 5. Implement the Reverse (Denoising) Process a DDPM architecture.\n",
    "\n",
    "The reverse process uses the model to predict the noise at each timestep and denoise the image step by step."
   ]
  },
  {
   "cell_type": "markdown",
   "id": "0161938d",
   "metadata": {},
   "source": [
    "### 5a. define denoising functions"
   ]
  },
  {
   "cell_type": "code",
   "execution_count": 5,
   "id": "92bff6ae",
   "metadata": {},
   "outputs": [],
   "source": [
    "# Reverse (denoising) process for sampling\n",
    "def p_sample(model, x, t):\n",
    "    beta = betas[t]\n",
    "    sqrt_one_minus_alpha_bar = (1 - alpha_bars[t]).sqrt()\n",
    "    sqrt_recip_alpha = (1. / alphas[t]).sqrt()\n",
    "    model_mean = sqrt_recip_alpha * (x - beta / sqrt_one_minus_alpha_bar * model(x, torch.tensor([t], device=device)))\n",
    "    if t > 0:\n",
    "        noise = torch.randn_like(x)\n",
    "        return model_mean + beta.sqrt() * noise\n",
    "    else:\n",
    "        return model_mean\n",
    "\n",
    "def p_sample_loop(model, shape):\n",
    "    device = next(model.parameters()).device\n",
    "    x = torch.randn(shape, device=device)\n",
    "    for t in reversed(range(T)):\n",
    "        x = p_sample(model, x, t)\n",
    "    return x"
   ]
  },
  {
   "cell_type": "markdown",
   "id": "407711ca",
   "metadata": {},
   "source": [
    "### 5b. Train the DDPM\n",
    "\n",
    "Set up the training loop, loss function, and optimizer. The model is trained to predict the noise added at each timestep."
   ]
  },
  {
   "cell_type": "code",
   "execution_count": 6,
   "id": "63a24993",
   "metadata": {},
   "outputs": [
    {
     "name": "stderr",
     "output_type": "stream",
     "text": [
      "Epoch 1 Loss: 0.1466: 100%|██████████| 469/469 [03:21<00:00,  2.32it/s]\n",
      "Epoch 1 Loss: 0.1466: 100%|██████████| 469/469 [03:21<00:00,  2.32it/s]\n",
      "Epoch 2 Loss: 0.0869: 100%|██████████| 469/469 [03:16<00:00,  2.39it/s]\n",
      "Epoch 2 Loss: 0.0869: 100%|██████████| 469/469 [03:16<00:00,  2.39it/s]\n"
     ]
    }
   ],
   "source": [
    "# Training loop for DDPM (28x28, new U-Net with timestep embedding)\n",
    "import random\n",
    "\n",
    "device = torch.device('cuda' if torch.cuda.is_available() else 'cpu')\n",
    "model = UNet28().to(device)\n",
    "optimizer = optim.Adam(model.parameters(), lr=2e-4)\n",
    "epochs = 2  # For demonstration; increase for better results\n",
    "\n",
    "for epoch in range(epochs):\n",
    "    pbar = tqdm(train_loader)\n",
    "    for x, _ in pbar:\n",
    "        x = x.to(device)\n",
    "        t = torch.randint(0, T, (x.size(0),), device=device).long()\n",
    "        noise = torch.randn_like(x)\n",
    "        x_noisy = q_sample(x, t, noise)\n",
    "        noise_pred = model(x_noisy, t)\n",
    "        loss = F.mse_loss(noise_pred, noise)\n",
    "        optimizer.zero_grad()\n",
    "        loss.backward()\n",
    "        optimizer.step()\n",
    "        pbar.set_description(f\"Epoch {epoch+1} Loss: {loss.item():.4f}\")"
   ]
  },
  {
   "cell_type": "markdown",
   "id": "1f6c8d17",
   "metadata": {},
   "source": [
    "### 5c. Generate Samples with the DDPM\n",
    "\n",
    "Use the trained model to generate new samples by running the reverse diffusion process starting from random noise."
   ]
  },
  {
   "cell_type": "code",
   "execution_count": 7,
   "id": "f40b9614",
   "metadata": {},
   "outputs": [
    {
     "data": {
      "image/png": "[encoded data removed]",
      "text/plain": [
       "<Figure size 1200x200 with 8 Axes>"
      ]
     },
     "metadata": {},
     "output_type": "display_data"
    }
   ],
   "source": [
    "# Generate samples from the trained model (14x14)\n",
    "model.eval()\n",
    "with torch.no_grad():\n",
    "    samples = p_sample_loop(model, (8, 1, 14, 14)).cpu()\n",
    "    samples = (samples + 1) / 2  # Rescale to [0, 1]\n",
    "\n",
    "fig, axes = plt.subplots(1, 8, figsize=(12, 2))\n",
    "for i, img in enumerate(samples):\n",
    "    axes[i].imshow(img.squeeze().numpy(), cmap='gray')\n",
    "    axes[i].axis('off')\n",
    "plt.show()"
   ]
  },
  {
   "cell_type": "markdown",
   "id": "6f9e68b7",
   "metadata": {},
   "source": [
    "## 6. Elucidated Diffusion Model (EDM) Implementation\n",
    "\n",
    "This section implements the EDM as described in the paper (2206.00364v2.pdf), including its unique noise schedule, loss weighting, and sampling procedure."
   ]
  },
  {
   "cell_type": "markdown",
   "id": "bc1a9202",
   "metadata": {},
   "source": [
    "### 6a. EDM loss and schedule functions."
   ]
  },
  {
   "cell_type": "code",
   "execution_count": null,
   "id": "e5d97cc2",
   "metadata": {},
   "outputs": [
    {
     "data": {
      "image/png": "[encoded data removed]",
      "text/plain": [
       "<Figure size 640x480 with 1 Axes>"
      ]
     },
     "metadata": {},
     "output_type": "display_data"
    }
   ],
   "source": [
    "# EDM noise schedule, loss weighting, and sampling procedure\n",
    "\n",
    "# EDM parameters from NVIDIA's reference\n",
    "P_mean = -1.2  # Mean of log-normal distribution for sigma sampling\n",
    "P_std = 1.2    # Std of log-normal distribution for sigma sampling\n",
    "sigma_data = 0.5  # Data standard deviation\n",
    "sigma_min = 0.002\n",
    "sigma_max = 80\n",
    "rho = 7\n",
    "\n",
    "# EDM noise schedule (sampling)\n",
    "def edm_sigma_schedule(t):\n",
    "    return (sigma_max ** (1/rho) + t * (sigma_min ** (1/rho) - sigma_max ** (1/rho))) ** rho\n",
    "\n",
    "# EDM loss weighting - CORRECTED according to NVIDIA's implementation\n",
    "# weight = (σ² + σ_data²) / (σ × σ_data)²\n",
    "def edm_loss_weight(sigma, sigma_data=sigma_data):\n",
    "    return (sigma ** 2 + sigma_data ** 2) / (sigma * sigma_data) ** 2\n",
    "\n",
    "# Example: plot the EDM noise schedule\n",
    "ts = torch.linspace(0, 1, 100)\n",
    "sigmas = edm_sigma_schedule(ts)\n",
    "plt.plot(ts.numpy(), sigmas.numpy())\n",
    "plt.xlabel('t')\n",
    "plt.ylabel('sigma(t)')\n",
    "plt.title('EDM Noise Schedule')\n",
    "plt.show()"
   ]
  },
  {
   "cell_type": "code",
   "execution_count": 18,
   "id": "92469c7a",
   "metadata": {},
   "outputs": [
    {
     "data": {
      "text/plain": [
       "tensor(-0.7495)"
      ]
     },
     "execution_count": 18,
     "metadata": {},
     "output_type": "execute_result"
    }
   ],
   "source": [
    "\n",
    "batch_size = 128\n",
    "train_dataset = torchvision.datasets.MNIST(root='./data', train=True, download=True, transform=transform)\n",
    "train_loader = DataLoader(train_dataset, batch_size=batch_size, shuffle=True, num_workers=0)\n",
    "\n",
    "pbar = train_loader\n",
    "x, _ = next(iter(pbar))\n",
    "x.mean()"
   ]
  },
  {
   "cell_type": "markdown",
   "id": "f4406db4",
   "metadata": {},
   "source": [
    "# 6b. EDM Training Loop "
   ]
  },
  {
   "cell_type": "code",
   "execution_count": 27,
   "id": "da3c9f73",
   "metadata": {},
   "outputs": [
    {
     "name": "stderr",
     "output_type": "stream",
     "text": [
      "EDM Epoch 1 Loss: 0.4058: 100%|██████████| 469/469 [03:17<00:00,  2.37it/s]\n",
      "EDM Epoch 1 Loss: 0.4058: 100%|██████████| 469/469 [03:17<00:00,  2.37it/s]\n",
      "EDM Epoch 2 Loss: 0.3105: 100%|██████████| 469/469 [03:19<00:00,  2.35it/s]\n",
      "EDM Epoch 2 Loss: 0.3105: 100%|██████████| 469/469 [03:19<00:00,  2.35it/s]\n"
     ]
    }
   ],
   "source": [
    "# EDM training loop - CORRECTED with proper preconditioning coefficients\n",
    "# Following NVIDIA's EDMPrecond implementation exactly\n",
    "\n",
    "device = torch.device('cuda' if torch.cuda.is_available() else 'cpu')\n",
    "edm_epochs = 2  # For demonstration; increase for better results\n",
    "model_edm = UNet28().to(device)\n",
    "optimizer_edm = optim.Adam(model_edm.parameters(), lr=2e-4)\n",
    "\n",
    "for epoch in range(edm_epochs):\n",
    "    pbar = tqdm(train_loader)\n",
    "    for x, _ in pbar:\n",
    "        x = x.to(device)\n",
    "        \n",
    "        # Log-normal sigma sampling (as in NVIDIA's implementation)\n",
    "        rnd_normal = torch.randn([x.shape[0], 1, 1, 1], device=device)\n",
    "        sigma = (rnd_normal * P_std + P_mean).exp()\n",
    "        \n",
    "        # Preconditioning coefficients (from NVIDIA's EDMPrecond)\n",
    "        c_skip = sigma_data ** 2 / (sigma ** 2 + sigma_data ** 2)\n",
    "        c_out = sigma * sigma_data / (sigma ** 2 + sigma_data ** 2).sqrt()\n",
    "        c_in = 1 / (sigma_data ** 2 + sigma ** 2).sqrt()\n",
    "        c_noise = sigma.log() / 4\n",
    "        \n",
    "        # Add noise: y_noisy = x + σ·n where n ~ N(0,I)\n",
    "        noise = torch.randn_like(x) * sigma\n",
    "        y_noisy = x + noise\n",
    "        \n",
    "        # Model prediction: F_x = net(c_in * y_noisy, c_noise)\n",
    "        F_x = model_edm(c_in * y_noisy, c_noise.squeeze())\n",
    "        \n",
    "        # Preconditioning: D_x = c_skip * y_noisy + c_out * F_x\n",
    "        D_x = c_skip * y_noisy + c_out * F_x\n",
    "        \n",
    "        # Loss weight: λ(σ) = (σ² + σ_data²) / (σ·σ_data)²\n",
    "        weight = edm_loss_weight(sigma.squeeze(), sigma_data).view(-1, 1, 1, 1)\n",
    "        \n",
    "        # Loss: weighted MSE between preconditioning output and clean image\n",
    "        loss = (weight * (D_x - x) ** 2).mean()\n",
    "        \n",
    "        optimizer_edm.zero_grad()\n",
    "        loss.backward()\n",
    "        optimizer_edm.step()\n",
    "        pbar.set_description(f\"EDM Epoch {epoch+1} Loss: {loss.item():.4f}\")"
   ]
  },
  {
   "cell_type": "markdown",
   "id": "dd1145ba",
   "metadata": {},
   "source": [
    "### 6c. EDM Sampling / Reconstruction"
   ]
  },
  {
   "cell_type": "code",
   "execution_count": 29,
   "id": "daea163e",
   "metadata": {},
   "outputs": [],
   "source": [
    "# EDM sampling procedure - Following NVIDIA's edm_sampler (Algorithm 2)\n",
    "def edm_ancestral_sampling(model, num_steps=18, batch_size=8, img_shape=(1, 28, 28)):\n",
    "    device = next(model.parameters()).device\n",
    "    \n",
    "    # Initialize noise\n",
    "    x_next = torch.randn((batch_size,) + img_shape, device=device)\n",
    "    \n",
    "    # Time step schedule (matching NVIDIA's implementation)\n",
    "    step_indices = torch.arange(num_steps, dtype=torch.float64, device=device)\n",
    "    t_steps = (sigma_max ** (1/rho) + step_indices / (num_steps - 1) * \n",
    "               (sigma_min ** (1/rho) - sigma_max ** (1/rho))) ** rho\n",
    "    t_steps = torch.cat([t_steps, torch.zeros_like(t_steps[:1])])  # t_N = 0\n",
    "    \n",
    "    # Initialize with first noise level\n",
    "    x_next = x_next * t_steps[0]\n",
    "    \n",
    "    # Main sampling loop (Heun's method)\n",
    "    for i, (t_cur, t_next) in enumerate(zip(t_steps[:-1], t_steps[1:])):\n",
    "        x_cur = x_next\n",
    "        \n",
    "        # Preconditioning coefficients for current timestep\n",
    "        sigma = t_cur.float()\n",
    "        c_skip = sigma_data ** 2 / (sigma ** 2 + sigma_data ** 2)\n",
    "        c_out = sigma * sigma_data / (sigma ** 2 + sigma_data ** 2).sqrt()\n",
    "        c_in = 1 / (sigma_data ** 2 + sigma ** 2).sqrt()\n",
    "        c_noise = sigma.log() / 4\n",
    "        \n",
    "        # Euler step\n",
    "        F_x = model(c_in * x_cur, c_noise.expand(batch_size))\n",
    "        denoised = c_skip * x_cur + c_out * F_x\n",
    "        d_cur = (x_cur - denoised) / t_cur\n",
    "        x_next = x_cur + (t_next - t_cur) * d_cur\n",
    "        \n",
    "        # Apply 2nd order correction (Heun's method) - except for last step\n",
    "        if i < num_steps - 1:\n",
    "            # Preconditioning coefficients for next timestep\n",
    "            sigma_next = t_next.float()\n",
    "            c_skip_next = sigma_data ** 2 / (sigma_next ** 2 + sigma_data ** 2)\n",
    "            c_out_next = sigma_next * sigma_data / (sigma_next ** 2 + sigma_data ** 2).sqrt()\n",
    "            c_in_next = 1 / (sigma_data ** 2 + sigma_next ** 2).sqrt()\n",
    "            c_noise_next = sigma_next.log() / 4\n",
    "            \n",
    "            F_x_next = model(c_in_next * x_next, c_noise_next.expand(batch_size))\n",
    "            denoised_next = c_skip_next * x_next + c_out_next * F_x_next\n",
    "            d_prime = (x_next - denoised_next) / t_next\n",
    "            x_next = x_cur + (t_next - t_cur) * (0.5 * d_cur + 0.5 * d_prime)\n",
    "    \n",
    "    return x_next"
   ]
  },
  {
   "cell_type": "markdown",
   "id": "aafa22fe",
   "metadata": {},
   "source": [
    "### 6d. Generate and visualize samples"
   ]
  },
  {
   "cell_type": "code",
   "execution_count": 30,
   "id": "8866ce57",
   "metadata": {},
   "outputs": [
    {
     "data": {
      "image/png": "[encoded data removed]",
      "text/plain": [
       "<Figure size 1200x200 with 8 Axes>"
      ]
     },
     "metadata": {},
     "output_type": "display_data"
    }
   ],
   "source": [
    "# Generate and visualize samples from the trained EDM model (28x28)\n",
    "model_edm.eval()\n",
    "with torch.no_grad():\n",
    "    edm_samples = edm_ancestral_sampling(model_edm, batch_size=8, img_shape=(1, 28, 28)).cpu()\n",
    "    edm_samples = (edm_samples + 1) / 2  # Rescale to [0, 1]\n",
    "\n",
    "fig, axes = plt.subplots(1, 8, figsize=(12, 2))\n",
    "for i, img in enumerate(edm_samples):\n",
    "    axes[i].imshow(img.squeeze().numpy(), cmap='gray')\n",
    "    axes[i].axis('off')\n",
    "plt.suptitle('EDM Generated Samples (28x28)')\n",
    "plt.show()"
   ]
  },
  {
   "cell_type": "markdown",
   "id": "8d50e8b7",
   "metadata": {},
   "source": [
    "## Claude's final response when the model worked.\n",
    "\n",
    "Looks like after about a dozen prompts it understood the formulas well.\n",
    "\n",
    "```\n",
    "You're absolutely right! The whole point of the EDM paper is to show their improved approach with proper preconditioning. Let me go back to the correct EDM formulation but fix the actual issue.\n",
    "\n",
    "Looking at the code, I think the problem might be in the sampling procedure. In the EDM paper, the sampling uses a different approach than what I implemented. Let me check the paper's Algorithm 2 more carefully and implement the proper EDM sampling.\n",
    "\n",
    "Perfect! Now I can see the actual EDM sampling algorithm. Looking at the edm_sampler function, the key differences are:\n",
    "\n",
    "It uses Heun's method (2nd order) rather than Euler's method\n",
    "It has proper noise scheduling with the t_steps\n",
    "It uses the correct denoising step\n",
    "Let me fix both the training and sampling to match NVIDIA's exact implementation:\n",
    "\n",
    "Restore proper EDM training with preconditioning matching NVIDIA's implementation\n",
    "\n",
    "Implement proper EDM sampling with Heun's method following NVIDIA's implementation\n",
    "\n",
    "Now let's test the corrected implementation. Let me first run the training:\n",
    "\n",
    "Ran diffusion_model_demo.ipynb • cell 20\n",
    "\n",
    "Great! The losses are much more reasonable now (0.4 → 0.31). Now let's test the sampling:\n",
    "\n",
    "Ran diffusion_model_demo.ipynb • cell 22\n",
    "\n",
    "Excellent! Now we're getting proper digit generation instead of white images! The EDM implementation is working correctly with:\n",
    "\n",
    "Proper preconditioning coefficients from NVIDIA's EDMPrecond:\n",
    "\n",
    "c_skip = σ_data² / (σ² + σ_data²)\n",
    "c_out = σ × σ_data / (σ² + σ_data²)^0.5\n",
    "c_in = 1 / (σ_data² + σ²)^0.5\n",
    "c_noise = log(σ) / 4\n",
    "Correct training procedure:\n",
    "\n",
    "Model learns F_x = net(c_in × y_noisy, c_noise)\n",
    "Output: D_x = c_skip × y_noisy + c_out × F_x\n",
    "Loss: weighted MSE between D_x and clean image x\n",
    "Proper Heun's method sampling:\n",
    "\n",
    "Uses the same preconditioning as training\n",
    "Implements 2nd order correction for better accuracy\n",
    "Follows NVIDIA's exact time step schedule\n",
    "The key insight you were pointing to is that EDM's strength comes from its sophisticated preconditioning scheme that helps the network learn more effectively across different noise levels. The complex mathematical formulation in the paper translates to this specific preconditioning that makes training more stable and sampling more accurate.\n",
    "```"
   ]
  }
 ],
 "metadata": {
  "kernelspec": {
   "display_name": "copilot-test",
   "language": "python",
   "name": "python3"
  },
  "language_info": {
   "codemirror_mode": {
    "name": "ipython",
    "version": 3
   },
   "file_extension": ".py",
   "mimetype": "text/x-python",
   "name": "python",
   "nbconvert_exporter": "python",
   "pygments_lexer": "ipython3",
   "version": "3.13.5"
  }
 },
 "nbformat": 4,
 "nbformat_minor": 5
}
