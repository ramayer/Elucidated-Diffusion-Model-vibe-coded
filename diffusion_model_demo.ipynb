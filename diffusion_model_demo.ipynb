{
 "cells": [
  {
   "cell_type": "markdown",
   "id": "f4ccbd02",
   "metadata": {},
   "source": [
    "# Denoising Diffusion Probabilistic Model (DDPM) Implementation\n",
    "\n",
    "This notebook implements the diffusion model described in the paper (2206.00364v2.pdf). It will guide you through the process of building, training, and sampling from a DDPM using PyTorch."
   ]
  },
  {
   "cell_type": "markdown",
   "id": "677ba9c7",
   "metadata": {},
   "source": [
    "## 1. Install and Import Required Libraries\n",
    "\n",
    "We will use PyTorch, torchvision, numpy, matplotlib, and tqdm. If running locally, ensure these packages are installed."
   ]
  },
  {
   "cell_type": "code",
   "execution_count": 1,
   "id": "c43048b7",
   "metadata": {},
   "outputs": [],
   "source": [
    "# Install required packages (uncomment if running in a new environment)\n",
    "# !pip install torch torchvision matplotlib tqdm numpy\n",
    "\n",
    "import torch\n",
    "import torch.nn as nn\n",
    "import torch.nn.functional as F\n",
    "import torch.optim as optim\n",
    "from torch.utils.data import DataLoader\n",
    "import torchvision\n",
    "import torchvision.transforms as transforms\n",
    "import matplotlib.pyplot as plt\n",
    "import numpy as np\n",
    "from tqdm import tqdm"
   ]
  },
  {
   "cell_type": "markdown",
   "id": "cff4c915",
   "metadata": {},
   "source": [
    "## 2. Load and Preprocess Dataset\n",
    "\n",
    "We will use the MNIST dataset for demonstration. The images will be normalized to [-1, 1] as required by most diffusion models."
   ]
  },
  {
   "cell_type": "code",
   "execution_count": 2,
   "id": "d39f9257",
   "metadata": {},
   "outputs": [
    {
     "data": {
      "image/png": "[encoded data removed]",
      "text/plain": [
       "<Figure size 1200x200 with 8 Axes>"
      ]
     },
     "metadata": {},
     "output_type": "display_data"
    }
   ],
   "source": [
    "# Load and preprocess MNIST dataset (28x28, standard U-Net)\n",
    "def scale_to_minus_one_to_one(x):\n",
    "    return x * 2. - 1.\n",
    "\n",
    "transform = transforms.Compose([\n",
    "    transforms.ToTensor(),\n",
    "    transforms.Lambda(scale_to_minus_one_to_one)  # Scale to [-1, 1]\n",
    "])\n",
    "\n",
    "batch_size = 128\n",
    "train_dataset = torchvision.datasets.MNIST(root='./data', train=True, download=True, transform=transform)\n",
    "train_loader = DataLoader(train_dataset, batch_size=batch_size, shuffle=True, num_workers=0)\n",
    "\n",
    "# Visualize a batch\n",
    "examples = [train_dataset[i][0] for i in range(8)]\n",
    "fig, axes = plt.subplots(1, 8, figsize=(12, 2))\n",
    "for i, img in enumerate(examples):\n",
    "    axes[i].imshow(img.squeeze().numpy(), cmap='gray')\n",
    "    axes[i].axis('off')\n",
    "plt.show()"
   ]
  },
  {
   "cell_type": "markdown",
   "id": "4cf3e8ab",
   "metadata": {},
   "source": [
    "## 3. Define the Diffusion Model Architecture\n",
    "\n",
    "We will use a simple U-Net-like architecture suitable for MNIST. For more complex datasets, a deeper U-Net or transformer-based model may be used."
   ]
  },
  {
   "cell_type": "code",
   "execution_count": 3,
   "id": "f635d382",
   "metadata": {},
   "outputs": [
    {
     "name": "stdout",
     "output_type": "stream",
     "text": [
      "UNet28(\n",
      "  (time_mlp): Sequential(\n",
      "    (0): SinusoidalPosEmb()\n",
      "    (1): Linear(in_features=32, out_features=32, bias=True)\n",
      "    (2): ReLU()\n",
      "  )\n",
      "  (inc): Conv2d(1, 32, kernel_size=(3, 3), stride=(1, 1), padding=(1, 1))\n",
      "  (down1): Conv2d(32, 64, kernel_size=(4, 4), stride=(2, 2), padding=(1, 1))\n",
      "  (down2): Conv2d(64, 128, kernel_size=(4, 4), stride=(2, 2), padding=(1, 1))\n",
      "  (emb1): Linear(in_features=32, out_features=64, bias=True)\n",
      "  (emb2): Linear(in_features=32, out_features=128, bias=True)\n",
      "  (middle): Sequential(\n",
      "    (0): Conv2d(128, 128, kernel_size=(3, 3), stride=(1, 1), padding=(1, 1))\n",
      "    (1): ReLU()\n",
      "    (2): Conv2d(128, 128, kernel_size=(3, 3), stride=(1, 1), padding=(1, 1))\n",
      "    (3): ReLU()\n",
      "  )\n",
      "  (up2): ConvTranspose2d(128, 64, kernel_size=(4, 4), stride=(2, 2), padding=(1, 1))\n",
      "  (up1): ConvTranspose2d(128, 32, kernel_size=(4, 4), stride=(2, 2), padding=(1, 1))\n",
      "  (emb_up2): Linear(in_features=32, out_features=64, bias=True)\n",
      "  (emb_up1): Linear(in_features=32, out_features=32, bias=True)\n",
      "  (outc): Conv2d(64, 1, kernel_size=(1, 1), stride=(1, 1))\n",
      ")\n"
     ]
    }
   ],
   "source": [
    "# Standard U-Net with skip connections and timestep embedding for 28x28 images (fixed output channels)\n",
    "class SinusoidalPosEmb(nn.Module):\n",
    "    def __init__(self, dim):\n",
    "        super().__init__()\n",
    "        self.dim = dim\n",
    "    def forward(self, x):\n",
    "        device = x.device\n",
    "        half_dim = self.dim // 2\n",
    "        emb = np.log(10000) / (half_dim - 1)\n",
    "        emb = torch.exp(torch.arange(half_dim, device=device) * -emb)\n",
    "        emb = x[:, None] * emb[None, :]\n",
    "        emb = torch.cat([torch.sin(emb), torch.cos(emb)], dim=-1)\n",
    "        return emb\n",
    "\n",
    "class UNet28(nn.Module):\n",
    "    def __init__(self, emb_dim=32):\n",
    "        super().__init__()\n",
    "        self.time_mlp = nn.Sequential(\n",
    "            SinusoidalPosEmb(emb_dim),\n",
    "            nn.Linear(emb_dim, emb_dim),\n",
    "            nn.ReLU(),\n",
    "        )\n",
    "        self.inc = nn.Conv2d(1, 32, 3, padding=1)\n",
    "        self.down1 = nn.Conv2d(32, 64, 4, stride=2, padding=1)  # 28x28 -> 14x14\n",
    "        self.down2 = nn.Conv2d(64, 128, 4, stride=2, padding=1) # 14x14 -> 7x7\n",
    "        self.emb1 = nn.Linear(emb_dim, 64)\n",
    "        self.emb2 = nn.Linear(emb_dim, 128)\n",
    "        self.middle = nn.Sequential(\n",
    "            nn.Conv2d(128, 128, 3, padding=1), nn.ReLU(),\n",
    "            nn.Conv2d(128, 128, 3, padding=1), nn.ReLU()\n",
    "        )\n",
    "        self.up2 = nn.ConvTranspose2d(128, 64, 4, stride=2, padding=1) # 7x7 -> 14x14\n",
    "        self.up1 = nn.ConvTranspose2d(128, 32, 4, stride=2, padding=1) # 14x14 -> 28x28\n",
    "        self.emb_up2 = nn.Linear(emb_dim, 64)\n",
    "        self.emb_up1 = nn.Linear(emb_dim, 32)\n",
    "        self.outc = nn.Conv2d(64, 1, 1)  # 32+32=64 after concat\n",
    "    def forward(self, x, t):\n",
    "        if t.dim() == 1:\n",
    "            t = t.float()\n",
    "        else:\n",
    "            t = t.squeeze(-1).float()\n",
    "        emb = self.time_mlp(t)\n",
    "        x1 = F.relu(self.inc(x))\n",
    "        x2 = F.relu(self.down1(x1) + self.emb1(emb).unsqueeze(-1).unsqueeze(-1))\n",
    "        x3 = F.relu(self.down2(x2) + self.emb2(emb).unsqueeze(-1).unsqueeze(-1))\n",
    "        m = self.middle(x3)\n",
    "        u2 = F.relu(self.up2(m) + self.emb_up2(emb).unsqueeze(-1).unsqueeze(-1))\n",
    "        # Crop x2 to match u2 if needed\n",
    "        if u2.shape[-2:] != x2.shape[-2:]:\n",
    "            diffY = x2.size(-2) - u2.size(-2)\n",
    "            diffX = x2.size(-1) - u2.size(-1)\n",
    "            u2 = F.pad(u2, [diffX // 2, diffX - diffX // 2, diffY // 2, diffY - diffY // 2])\n",
    "        u2 = torch.cat([u2, x2], dim=1)\n",
    "        u1 = F.relu(self.up1(u2) + self.emb_up1(emb).unsqueeze(-1).unsqueeze(-1))\n",
    "        # Crop x1 to match u1 if needed\n",
    "        if u1.shape[-2:] != x1.shape[-2:]:\n",
    "            diffY = x1.size(-2) - u1.size(-2)\n",
    "            diffX = x1.size(-1) - u1.size(-1)\n",
    "            u1 = F.pad(u1, [diffX // 2, diffX - diffX // 2, diffY // 2, diffY - diffY // 2])\n",
    "        u1 = torch.cat([u1, x1], dim=1)\n",
    "        out = self.outc(u1)\n",
    "        return out\n",
    "\n",
    "model = UNet28()\n",
    "print(model)"
   ]
  },
  {
   "cell_type": "markdown",
   "id": "870bb5bb",
   "metadata": {},
   "source": [
    "## 4. Implement the Forward Diffusion Process\n",
    "\n",
    "The forward process gradually adds Gaussian noise to the data over a fixed number of timesteps."
   ]
  },
  {
   "cell_type": "code",
   "execution_count": 4,
   "id": "4ff1a628",
   "metadata": {},
   "outputs": [
    {
     "data": {
      "image/png": "[encoded data removed]",
      "text/plain": [
       "<Figure size 1000x200 with 4 Axes>"
      ]
     },
     "metadata": {},
     "output_type": "display_data"
    }
   ],
   "source": [
    "# Forward diffusion process\n",
    "T = 200  # Number of diffusion steps\n",
    "beta_start = 1e-4\n",
    "beta_end = 0.02\n",
    "betas = torch.linspace(beta_start, beta_end, T)\n",
    "alphas = 1. - betas\n",
    "alpha_bars = torch.cumprod(alphas, dim=0)\n",
    "\n",
    "def q_sample(x_start, t, noise=None):\n",
    "    if noise is None:\n",
    "        noise = torch.randn_like(x_start)\n",
    "    sqrt_alpha_bar = alpha_bars[t].sqrt().view(-1, 1, 1, 1)\n",
    "    sqrt_one_minus_alpha_bar = (1 - alpha_bars[t]).sqrt().view(-1, 1, 1, 1)\n",
    "    return sqrt_alpha_bar * x_start + sqrt_one_minus_alpha_bar * noise\n",
    "\n",
    "# Visualize noisy images at different timesteps\n",
    "x = torch.stack(examples[:4])  # Convert the list of tensors to a single tensor\n",
    "timesteps = torch.tensor([0, T//4, T//2, T-1])\n",
    "noisy_imgs = [q_sample(x, t.repeat(x.size(0)), noise=None) for t in timesteps]  # Repeat t for the batch size\n",
    "fig, axes = plt.subplots(1, 4, figsize=(10, 2))\n",
    "for i, img in enumerate(noisy_imgs):\n",
    "    axes[i].imshow(img[0].squeeze().numpy(), cmap='gray')\n",
    "    axes[i].set_title(f\"t={timesteps[i].item()}\")\n",
    "    axes[i].axis('off')\n",
    "plt.show()"
   ]
  },
  {
   "cell_type": "markdown",
   "id": "a50a2a51",
   "metadata": {},
   "source": [
    "## 5. Implement the Reverse (Denoising) Process\n",
    "\n",
    "The reverse process uses the model to predict the noise at each timestep and denoise the image step by step."
   ]
  },
  {
   "cell_type": "code",
   "execution_count": 5,
   "id": "92bff6ae",
   "metadata": {},
   "outputs": [],
   "source": [
    "# Reverse (denoising) process for sampling\n",
    "def p_sample(model, x, t):\n",
    "    beta = betas[t]\n",
    "    sqrt_one_minus_alpha_bar = (1 - alpha_bars[t]).sqrt()\n",
    "    sqrt_recip_alpha = (1. / alphas[t]).sqrt()\n",
    "    model_mean = sqrt_recip_alpha * (x - beta / sqrt_one_minus_alpha_bar * model(x, torch.tensor([t])))\n",
    "    if t > 0:\n",
    "        noise = torch.randn_like(x)\n",
    "        return model_mean + beta.sqrt() * noise\n",
    "    else:\n",
    "        return model_mean\n",
    "\n",
    "def p_sample_loop(model, shape):\n",
    "    device = next(model.parameters()).device\n",
    "    x = torch.randn(shape, device=device)\n",
    "    for t in reversed(range(T)):\n",
    "        x = p_sample(model, x, t)\n",
    "    return x"
   ]
  },
  {
   "cell_type": "markdown",
   "id": "407711ca",
   "metadata": {},
   "source": [
    "## 6. Train the Diffusion Model\n",
    "\n",
    "Set up the training loop, loss function, and optimizer. The model is trained to predict the noise added at each timestep."
   ]
  },
  {
   "cell_type": "code",
   "execution_count": 6,
   "id": "63a24993",
   "metadata": {},
   "outputs": [
    {
     "name": "stderr",
     "output_type": "stream",
     "text": [
      "Epoch 1 Loss: 0.1466: 100%|██████████| 469/469 [03:21<00:00,  2.32it/s]\n",
      "Epoch 1 Loss: 0.1466: 100%|██████████| 469/469 [03:21<00:00,  2.32it/s]\n",
      "Epoch 2 Loss: 0.0869: 100%|██████████| 469/469 [03:16<00:00,  2.39it/s]\n",
      "Epoch 2 Loss: 0.0869: 100%|██████████| 469/469 [03:16<00:00,  2.39it/s]\n"
     ]
    }
   ],
   "source": [
    "# Training loop for DDPM (28x28, new U-Net with timestep embedding)\n",
    "import random\n",
    "\n",
    "device = torch.device('cuda' if torch.cuda.is_available() else 'cpu')\n",
    "model = UNet28().to(device)\n",
    "optimizer = optim.Adam(model.parameters(), lr=2e-4)\n",
    "epochs = 2  # For demonstration; increase for better results\n",
    "\n",
    "for epoch in range(epochs):\n",
    "    pbar = tqdm(train_loader)\n",
    "    for x, _ in pbar:\n",
    "        x = x.to(device)\n",
    "        t = torch.randint(0, T, (x.size(0),), device=device).long()\n",
    "        noise = torch.randn_like(x)\n",
    "        x_noisy = q_sample(x, t, noise)\n",
    "        noise_pred = model(x_noisy, t)\n",
    "        loss = F.mse_loss(noise_pred, noise)\n",
    "        optimizer.zero_grad()\n",
    "        loss.backward()\n",
    "        optimizer.step()\n",
    "        pbar.set_description(f\"Epoch {epoch+1} Loss: {loss.item():.4f}\")"
   ]
  },
  {
   "cell_type": "markdown",
   "id": "1f6c8d17",
   "metadata": {},
   "source": [
    "## 7. Generate Samples with the Trained Model\n",
    "\n",
    "Use the trained model to generate new samples by running the reverse diffusion process starting from random noise."
   ]
  },
  {
   "cell_type": "code",
   "execution_count": 7,
   "id": "f40b9614",
   "metadata": {},
   "outputs": [
    {
     "data": {
      "image/png": "[encoded data removed]",
      "text/plain": [
       "<Figure size 1200x200 with 8 Axes>"
      ]
     },
     "metadata": {},
     "output_type": "display_data"
    }
   ],
   "source": [
    "# Generate samples from the trained model (14x14)\n",
    "model.eval()\n",
    "with torch.no_grad():\n",
    "    samples = p_sample_loop(model, (8, 1, 14, 14)).cpu()\n",
    "    samples = (samples + 1) / 2  # Rescale to [0, 1]\n",
    "\n",
    "fig, axes = plt.subplots(1, 8, figsize=(12, 2))\n",
    "for i, img in enumerate(samples):\n",
    "    axes[i].imshow(img.squeeze().numpy(), cmap='gray')\n",
    "    axes[i].axis('off')\n",
    "plt.show()"
   ]
  },
  {
   "cell_type": "markdown",
   "id": "a13fdf49",
   "metadata": {},
   "source": [
    "## 8. Visualize Generated Samples\n",
    "\n",
    "Display the generated samples to assess the performance of the diffusion model."
   ]
  },
  {
   "cell_type": "markdown",
   "id": "6f9e68b7",
   "metadata": {},
   "source": [
    "# Elucidated Diffusion Model (EDM) Implementation\n",
    "\n",
    "This section implements the EDM as described in the paper (2206.00364v2.pdf), including its unique noise schedule, loss weighting, and sampling procedure."
   ]
  },
  {
   "cell_type": "code",
   "execution_count": 6,
   "id": "e5d97cc2",
   "metadata": {},
   "outputs": [
    {
     "data": {
      "image/png": "[encoded data removed]",
      "text/plain": [
       "<Figure size 640x480 with 1 Axes>"
      ]
     },
     "metadata": {},
     "output_type": "display_data"
    }
   ],
   "source": [
    "# EDM noise schedule, loss weighting, and sampling procedure\n",
    "# Reference: 2206.00364v2.pdf (Karras et al., 2022)\n",
    "\n",
    "# EDM uses a continuous noise schedule and loss weighting\n",
    "# We use sigma_min, sigma_max, and rho as in the paper\n",
    "sigma_min = 0.002\n",
    "sigma_max = 80\n",
    "rho = 7\n",
    "sigma_data = 0.5  # Data standard deviation (important for correct weighting)\n",
    "\n",
    "# EDM noise schedule (sampling)\n",
    "def edm_sigma_schedule(t):\n",
    "    return (sigma_max ** (1/rho) + t * (sigma_min ** (1/rho) - sigma_max ** (1/rho))) ** rho\n",
    "\n",
    "# EDM loss weighting - CORRECTED according to paper\n",
    "# λ(σ) = (σ² + σ_data²)² / (σ × σ_data)²\n",
    "def edm_loss_weight(sigma, sigma_data=sigma_data):\n",
    "    return (sigma ** 2 + sigma_data ** 2) ** 2 / (sigma * sigma_data) ** 2\n",
    "\n",
    "# Example: plot the EDM noise schedule\n",
    "ts = torch.linspace(0, 1, 100)\n",
    "sigmas = edm_sigma_schedule(ts)\n",
    "plt.plot(ts.numpy(), sigmas.numpy())\n",
    "plt.xlabel('t')\n",
    "plt.ylabel('sigma(t)')\n",
    "plt.title('EDM Noise Schedule')\n",
    "plt.show()"
   ]
  },
  {
   "cell_type": "code",
   "execution_count": 7,
   "id": "92469c7a",
   "metadata": {},
   "outputs": [
    {
     "data": {
      "text/plain": [
       "tensor(-0.7490)"
      ]
     },
     "execution_count": 7,
     "metadata": {},
     "output_type": "execute_result"
    }
   ],
   "source": [
    "\n",
    "batch_size = 128\n",
    "train_dataset = torchvision.datasets.MNIST(root='./data', train=True, download=True, transform=transform)\n",
    "train_loader = DataLoader(train_dataset, batch_size=batch_size, shuffle=True, num_workers=0)\n",
    "\n",
    "pbar = train_loader\n",
    "x, _ = next(iter(pbar))\n",
    "x.mean()"
   ]
  },
  {
   "cell_type": "code",
   "execution_count": null,
   "id": "da3c9f73",
   "metadata": {},
   "outputs": [
    {
     "name": "stderr",
     "output_type": "stream",
     "text": [
      "  0%|          | 0/469 [00:00<?, ?it/s]"
     ]
    },
    {
     "name": "stderr",
     "output_type": "stream",
     "text": [
      "EDM Epoch 1 Loss: 700.7752: 100%|██████████| 469/469 [03:18<00:00,  2.36it/s] \n",
      "EDM Epoch 1 Loss: 700.7752: 100%|██████████| 469/469 [03:18<00:00,  2.36it/s]\n",
      "EDM Epoch 2 Loss: 596.4303:  33%|███▎      | 155/469 [01:04<02:16,  2.31it/s]"
     ]
    }
   ],
   "source": [
    "# EDM training loop - CORRECTED according to paper\n",
    "# The key insight: EDM trains on a preconditioned denoising objective\n",
    "\n",
    "device = torch.device('cuda' if torch.cuda.is_available() else 'cpu')\n",
    "edm_epochs = 2  # For demonstration; increase for better results\n",
    "model_edm = UNet28().to(device)\n",
    "optimizer_edm = optim.Adam(model_edm.parameters(), lr=2e-4)\n",
    "\n",
    "for epoch in range(edm_epochs):\n",
    "    pbar = tqdm(train_loader)\n",
    "    for x, _ in pbar:\n",
    "        x = x.to(device)\n",
    "        t = torch.rand(x.size(0), device=device)  # Uniform in [0, 1]\n",
    "        sigma = edm_sigma_schedule(t)\n",
    "        noise = torch.randn_like(x)\n",
    "        x_noisy = x + sigma.view(-1, 1, 1, 1) * noise\n",
    "        \n",
    "        # EDM preconditioning: normalize input by sqrt(sigma^2 + sigma_data^2)\n",
    "        c_skip = sigma_data ** 2 / (sigma ** 2 + sigma_data ** 2)\n",
    "        c_out = sigma * sigma_data / (sigma ** 2 + sigma_data ** 2).sqrt()\n",
    "        c_in = 1 / (sigma ** 2 + sigma_data ** 2).sqrt()\n",
    "        c_noise = sigma\n",
    "        \n",
    "        # Model input (preconditioned)\n",
    "        x_in = c_in.view(-1, 1, 1, 1) * x_noisy\n",
    "        \n",
    "        # Model prediction\n",
    "        F_theta = model_edm(x_in, c_noise)\n",
    "        \n",
    "        # Denoiser output (preconditioned)\n",
    "        D_theta = c_skip.view(-1, 1, 1, 1) * x_noisy + c_out.view(-1, 1, 1, 1) * F_theta\n",
    "        \n",
    "        # Loss weight \n",
    "        weight = edm_loss_weight(sigma, sigma_data).view(-1, 1, 1, 1)\n",
    "        \n",
    "        # Loss: weighted MSE between denoiser output and clean image\n",
    "        loss = (weight * (D_theta - x) ** 2).mean()\n",
    "        \n",
    "        optimizer_edm.zero_grad()\n",
    "        loss.backward()\n",
    "        optimizer_edm.step()\n",
    "        pbar.set_description(f\"EDM Epoch {epoch+1} Loss: {loss.item():.4f}\")"
   ]
  },
  {
   "cell_type": "code",
   "execution_count": null,
   "id": "daea163e",
   "metadata": {},
   "outputs": [],
   "source": [
    "# EDM sampling procedure - CORRECTED to match training\n",
    "def edm_ancestral_sampling(model, num_steps=18, batch_size=8, img_shape=(1, 28, 28)):\n",
    "    device = next(model.parameters()).device\n",
    "    x = torch.randn((batch_size,) + img_shape, device=device) * sigma_max\n",
    "    sigmas = edm_sigma_schedule(torch.linspace(1, 0, num_steps, device=device))\n",
    "    \n",
    "    for i in range(num_steps):\n",
    "        sigma = sigmas[i]\n",
    "        sigma_next = sigmas[i+1] if i+1 < num_steps else torch.tensor(sigma_min, device=device)\n",
    "        \n",
    "        # EDM preconditioning (same as training)\n",
    "        c_skip = sigma_data ** 2 / (sigma ** 2 + sigma_data ** 2)\n",
    "        c_out = sigma * sigma_data / (sigma ** 2 + sigma_data ** 2).sqrt()\n",
    "        c_in = 1 / (sigma ** 2 + sigma_data ** 2).sqrt()\n",
    "        c_noise = sigma\n",
    "        \n",
    "        # Model prediction\n",
    "        x_in = c_in * x\n",
    "        F_theta = model(x_in, c_noise.expand(batch_size))\n",
    "        \n",
    "        # Denoiser output\n",
    "        D_theta = c_skip * x + c_out * F_theta\n",
    "        \n",
    "        # Euler step\n",
    "        d = (x - D_theta) / sigma\n",
    "        x = x + (sigma_next - sigma) * d\n",
    "        \n",
    "        # Add noise for next step (except last)\n",
    "        if sigma_next > 0:\n",
    "            x = x + torch.randn_like(x) * (sigma_next ** 2 - sigma ** 2).sqrt()\n",
    "    \n",
    "    return x"
   ]
  },
  {
   "cell_type": "code",
   "execution_count": null,
   "id": "8866ce57",
   "metadata": {},
   "outputs": [
    {
     "data": {
      "image/png": "[encoded data removed]",
      "text/plain": [
       "<Figure size 1200x200 with 8 Axes>"
      ]
     },
     "metadata": {},
     "output_type": "display_data"
    }
   ],
   "source": [
    "# Generate and visualize samples from the trained EDM model (28x28)\n",
    "model_edm.eval()\n",
    "with torch.no_grad():\n",
    "    edm_samples = edm_ancestral_sampling(model_edm, batch_size=8, img_shape=(1, 28, 28)).cpu()\n",
    "    edm_samples = (edm_samples + 1) / 2  # Rescale to [0, 1]\n",
    "\n",
    "fig, axes = plt.subplots(1, 8, figsize=(12, 2))\n",
    "for i, img in enumerate(edm_samples):\n",
    "    axes[i].imshow(img.squeeze().numpy(), cmap='gray')\n",
    "    axes[i].axis('off')\n",
    "plt.suptitle('EDM Generated Samples (28x28)')\n",
    "plt.show()"
   ]
  },
  {
   "cell_type": "code",
   "execution_count": null,
   "id": "8d50e8b7",
   "metadata": {},
   "outputs": [],
   "source": []
  }
 ],
 "metadata": {
  "kernelspec": {
   "display_name": "copilot-test",
   "language": "python",
   "name": "python3"
  },
  "language_info": {
   "codemirror_mode": {
    "name": "ipython",
    "version": 3
   },
   "file_extension": ".py",
   "mimetype": "text/x-python",
   "name": "python",
   "nbconvert_exporter": "python",
   "pygments_lexer": "ipython3",
   "version": "3.13.5"
  }
 },
 "nbformat": 4,
 "nbformat_minor": 5
}
