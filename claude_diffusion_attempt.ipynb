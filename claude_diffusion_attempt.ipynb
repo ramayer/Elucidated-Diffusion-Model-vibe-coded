{
 "cells": [
  {
   "cell_type": "markdown",
   "id": "f4ccbd02",
   "metadata": {},
   "source": [
    "# Vibe Coding a modern diffusion pipeline (NVIDIA EDM, SR3, Toyota SR)\n",
    "\n",
    "* Nvidia - Elucidating the Design Space of Diffusion-Based Generative Models - https://arxiv.org/abs/2206.00364\n",
    "* Toyota - Efficient Burst Super-Resolution with One-step Diffusion - https://arxiv.org/abs/2507.13607\n",
    "* Google SR3 - Image Super-Resolution via Iterative Refinement - https://arxiv.org/abs/2104.07636\n"
   ]
  },
  {
   "cell_type": "markdown",
   "id": "677ba9c7",
   "metadata": {},
   "source": [
    "## 1. Install and Import Required Libraries\n",
    "\n",
    "We will use PyTorch, torchvision, numpy, matplotlib, and tqdm. If running locally, ensure these packages are installed."
   ]
  },
  {
   "cell_type": "code",
   "execution_count": 1,
   "id": "c43048b7",
   "metadata": {},
   "outputs": [],
   "source": [
    "import torch\n",
    "import torch.nn as nn\n",
    "import torch.nn.functional as F\n",
    "import torch.optim as optim\n",
    "import torchvision.transforms as transforms\n",
    "import torchvision.utils as vutils\n",
    "import base64\n",
    "import IPython.display as ipd\n",
    "import matplotlib.pyplot as plt\n",
    "import numpy as np\n",
    "import random\n",
    "import time\n",
    "from torch.utils.data import DataLoader\n",
    "from torchvision import datasets, transforms\n",
    "from torchvision import transforms\n",
    "from datetime import datetime\n",
    "from io import BytesIO\n",
    "from PIL import Image, ImageOps\n",
    "from tqdm import tqdm\n",
    "import cv2\n",
    "import numpy as np\n",
    "from PIL import Image\n",
    "import torchvision.transforms.functional as TF\n",
    "import torch\n",
    "import torch.nn as nn\n",
    "import io\n",
    "import os"
   ]
  },
  {
   "cell_type": "code",
   "execution_count": 2,
   "id": "aaf94307",
   "metadata": {},
   "outputs": [],
   "source": [
    "from elucidated_diffusion.elucidated_diffusion import edm_ancestral_sampling_for_diffusion\n",
    "from elucidated_diffusion.elucidated_diffusion import edm_ancestral_sampling_for_sr\n",
    "from elucidated_diffusion.elucidated_diffusion import P_mean, P_std, sigma_data, edm_loss_weight\n",
    "from elucidated_diffusion.ema_helper import EMAHelper\n",
    "#from elucidated_diffusion.models.chatgpt_diffusion_unet import UNet128\n",
    "#from elucidated_diffusion.models.claude_diffusion_simple import create_vit_enhanced_unet\n",
    "from elucidated_diffusion.models.claude_diffusion_ViTGradualTransition import create_gradual_transition_unet\n",
    "from elucidated_diffusion.dataset_helpers import get_datasets\n",
    "from elucidated_diffusion.checkpoint_helper import load_checkpoint, save_checkpoint\n",
    "\n"
   ]
  },
  {
   "cell_type": "code",
   "execution_count": 3,
   "id": "8f37695f",
   "metadata": {},
   "outputs": [],
   "source": [
    "device = torch.device('cuda' if torch.cuda.is_available() else 'cpu')\n",
    "HR = 256\n",
    "LR = 64\n",
    "max_training_time = 60*5\n",
    "display_interval = 30\n",
    "\n",
    "# https://www.kaggle.com/datasets/chetankv/dogs-cats-images\n",
    "# https://www.kaggle.com/datasets/nerfviking/fantasyscifi-full-body-character-concepts\n",
    "# https://www.kaggle.com/datasets/hlrhegemony/pokemon-image-dataset\n",
    "experiments = {\n",
    "    \"fantasy\": (\"./data/fantasy\", \"checkpoints/UNet128_2025-09-14_17-47-44_fantasy.pth\", \"checkpoints/UNetSR3_2025-09-14_17-32-01_fantasy.pth\"),\n",
    "    \"cats_and_dogs\": (\"./data/cats_and_dogs/dataset/training_set\", \"checkpoints/UNet128_2025-09-08_17-57-30_cats_and_dogs.pth\",None),\n",
    "    \"pokemon\": (\"./data/pokemon_archive\",\"UNet128_2025-09-12_11-03-12_pokemon.pth\",None),\n",
    "    \"dragon\": (\"utils/dataset_fetcher/datasets/\", 'checkpoints/UNet128_2025-09-17_01-57-51_dragon.pth',None),\n",
    "    \"yugioh\": (\"data/yugioh/YuGiOhImages\",None,None),\n",
    "    \"mnist\": (None,None,None),\n",
    "}\n",
    "\n",
    "experiment_name = \"dragon\"\n",
    "src_data, diffusion_weights,checkpoint_weights = experiments[experiment_name]"
   ]
  },
  {
   "cell_type": "markdown",
   "id": "d721c15d",
   "metadata": {},
   "source": [
    "## 3. Define a Vision Mmodel for a Diffusion Model Architecture\n",
    "\n",
    "* **Sinusoidal Timestep Embedding**\n",
    "  * → Encodes diffusion step (time) as a multi-frequency vector. Lets the model “know” how much noise is present and what stage of denoising it’s in.\n",
    "* **Optional Self-Attention at Lower Resolutions (e.g. 16×16)**\n",
    "  * → Lets distant parts of the image “talk to each other,” useful for global structure (symmetry, object coherence). Limited to low-res maps to save compute.\n",
    "* **SiLU/Swish activations**\n",
    "  * → Smooth nonlinearities, empirically better than ReLU in diffusion U-Nets."
   ]
  },
  {
   "cell_type": "code",
   "execution_count": 4,
   "id": "fa80b33a",
   "metadata": {},
   "outputs": [],
   "source": [
    "if show_model_info := False:\n",
    "    #model = UNet128(use_attention=True).to(device)\n",
    "    model = create_vit_enhanced_unet().to(device)\n",
    "    print(model)\n",
    "\n",
    "    # Total parameters\n",
    "    total_params = sum(p.numel() for p in model.parameters())\n",
    "    print(f\"Total parameters: {total_params}\")\n",
    "\n",
    "    # Trainable parameters\n",
    "    trainable_params = sum(p.numel() for p in model.parameters() if p.requires_grad)\n",
    "    print(f\"Trainable parameters: {trainable_params}\")\n",
    "\n",
    "    from torchview import draw_graph\n",
    "    #model = UNet128(use_attention=True).to(device)\n",
    "    x,t = torch.rand(12, 3, 64, 64), torch.rand(12)\n",
    "    #print(x,t)\n",
    "    model_graph = draw_graph(model, input_data=(x,t), device='meta')\n",
    "    model_graph.visual_graph\n",
    "\n",
    "    type(model_graph.visual_graph)\n",
    "    model_graph.visual_graph.render(filename='doc/diffusion_model_graph', format='svg', cleanup=True)\n",
    "    model_graph.visual_graph.render(filename='doc/diffusion_model_graph', format='pdf', cleanup=True)\n",
    "    svg_data = model_graph.visual_graph.pipe(format='svg')\n",
    "    #ipd.display(ipd.SVG(svg_data))\n",
    "    del(model)\n",
    "\n"
   ]
  },
  {
   "cell_type": "markdown",
   "id": "cff4c915",
   "metadata": {},
   "source": [
    "## 4. Load and Preprocess Dataset\n",
    "\n",
    "We will use any image directory for demonstration. The images will be normalized to [-1, 1] as required by most diffusion models."
   ]
  },
  {
   "cell_type": "code",
   "execution_count": 5,
   "id": "81f9a4e1",
   "metadata": {},
   "outputs": [],
   "source": [
    "lrds,_ = get_datasets(experiment_name)\n"
   ]
  },
  {
   "cell_type": "markdown",
   "id": "870bb5bb",
   "metadata": {},
   "source": [
    "## 4. Implement the Forward Diffusion Process\n",
    "\n",
    "The forward process gradually adds Gaussian noise to the data over a fixed number of timesteps."
   ]
  },
  {
   "cell_type": "code",
   "execution_count": null,
   "id": "4ff1a628",
   "metadata": {},
   "outputs": [],
   "source": []
  },
  {
   "cell_type": "markdown",
   "id": "6f9e68b7",
   "metadata": {},
   "source": [
    "## 6. Elucidated Diffusion Model (EDM) Implementation\n",
    "\n",
    "This section implements the EDM as described in the paper (2206.00364v2.pdf), including its unique noise schedule, loss weighting, and sampling procedure."
   ]
  },
  {
   "cell_type": "markdown",
   "id": "bc1a9202",
   "metadata": {},
   "source": [
    "### 6a. EDM loss and schedule functions."
   ]
  },
  {
   "cell_type": "markdown",
   "id": "5f8cf368",
   "metadata": {},
   "source": [
    "### 6b. EDM Sampling / Reconstruction"
   ]
  },
  {
   "cell_type": "code",
   "execution_count": 6,
   "id": "814feeaa",
   "metadata": {},
   "outputs": [],
   "source": [
    "from elucidated_diffusion.image_helpers import pil_to_data_url, html_for_images"
   ]
  },
  {
   "cell_type": "code",
   "execution_count": 7,
   "id": "410a0d8a",
   "metadata": {},
   "outputs": [],
   "source": [
    "import matplotlib.pyplot as plt\n",
    "import torchvision.utils as vutils\n",
    "\n",
    "def generate_images(model_edm, num_steps=15, batch_size=20, img_shape = (3,64,64)):\n",
    "    to_pil = transforms.ToPILImage()\n",
    "    with torch.no_grad():\n",
    "        samples = edm_ancestral_sampling_for_diffusion(model_edm, num_steps=num_steps, batch_size=batch_size, img_shape=(3, 64, 64)).cpu()\n",
    "        samples = (samples + 1) / 2  # scale from [-1,1] to [0,1]\n",
    "        samples = samples.clamp(0, 1)\n",
    "        pil_images = [to_pil(img) for img in samples]\n",
    "    return pil_images\n",
    "\n",
    "def sample_html(model, batch_size=12, img_shape=(3,64,64), num_steps=36, title=\"EDM Samples\",min_height=128):\n",
    "    imgs = generate_images(model_edm=model, batch_size=batch_size, img_shape=img_shape, num_steps=16)\n",
    "    h = html_for_images(imgs, title=title, min_height=min_height)\n",
    "    return h\n"
   ]
  },
  {
   "cell_type": "markdown",
   "id": "f4406db4",
   "metadata": {},
   "source": [
    "# 6c. EDM Training Loop "
   ]
  },
  {
   "cell_type": "code",
   "execution_count": 8,
   "id": "da3c9f73",
   "metadata": {},
   "outputs": [],
   "source": [
    "# EDM training loop - CORRECTED with proper preconditioning coefficients\n",
    "# Following NVIDIA's EDMPrecond implementation exactly\n",
    "\n",
    "def train_a_batch(model_edm, optimizer_edm, batch):\n",
    " \n",
    "        x = batch.to(device)\n",
    "        \n",
    "        # Log-normal sigma sampling (as in NVIDIA's implementation)\n",
    "        rnd_normal = torch.randn([x.shape[0], 1, 1, 1], device=device)\n",
    "        sigma = (rnd_normal * P_std + P_mean).exp()\n",
    "        \n",
    "        # Preconditioning coefficients (from NVIDIA's EDMPrecond)\n",
    "        c_skip = sigma_data ** 2 / (sigma ** 2 + sigma_data ** 2)\n",
    "        c_out = sigma * sigma_data / (sigma ** 2 + sigma_data ** 2).sqrt()\n",
    "        c_in = 1 / (sigma_data ** 2 + sigma ** 2).sqrt()\n",
    "        c_noise = sigma.log() / 4\n",
    "        \n",
    "        # Add noise: y_noisy = x + σ·n where n ~ N(0,I)\n",
    "        noise = torch.randn_like(x) * sigma\n",
    "        y_noisy = x + noise\n",
    "        \n",
    "        # Model prediction: F_x = net(c_in * y_noisy, c_noise)\n",
    "        c_noise_input = c_noise.view(x.shape[0])\n",
    "        F_x = model_edm(c_in * y_noisy, c_noise_input)\n",
    "        \n",
    "        # Preconditioning: D_x = c_skip * y_noisy + c_out * F_x\n",
    "        D_x = c_skip * y_noisy + c_out * F_x\n",
    "        \n",
    "        # Loss weight: λ(σ) = (σ² + σ_data²) / (σ·σ_data)²\n",
    "        weight = edm_loss_weight(sigma.squeeze(), sigma_data).view(-1, 1, 1, 1)\n",
    "        \n",
    "        # Loss: weighted MSE between preconditioning output and clean image\n",
    "        loss = (weight * (D_x - x) ** 2).mean()\n",
    "        \n",
    "        optimizer_edm.zero_grad()\n",
    "        loss.backward()\n",
    "        optimizer_edm.step()\n",
    "        return loss.item()\n"
   ]
  },
  {
   "cell_type": "code",
   "execution_count": null,
   "id": "b33b8cea",
   "metadata": {},
   "outputs": [],
   "source": [
    "\n",
    "\n"
   ]
  },
  {
   "cell_type": "code",
   "execution_count": 9,
   "id": "e7a7e06e",
   "metadata": {},
   "outputs": [
    {
     "data": {
      "text/plain": [
       "device(type='cuda')"
      ]
     },
     "execution_count": 9,
     "metadata": {},
     "output_type": "execute_result"
    }
   ],
   "source": [
    "device"
   ]
  },
  {
   "cell_type": "code",
   "execution_count": null,
   "id": "10ddfcf0",
   "metadata": {},
   "outputs": [
    {
     "name": "stderr",
     "output_type": "stream",
     "text": [
      "  0%|          | 0/429 [00:00<?, ?it/s]\n"
     ]
    },
    {
     "ename": "OutOfMemoryError",
     "evalue": "CUDA out of memory. Tried to allocate 384.00 MiB. GPU 0 has a total capacity of 5.78 GiB of which 51.06 MiB is free. Process 3803929 has 2.99 GiB memory in use. Including non-PyTorch memory, this process has 1.59 GiB memory in use. Of the allocated memory 1.31 GiB is allocated by PyTorch, and 187.39 MiB is reserved by PyTorch but unallocated. If reserved but unallocated memory is large try setting PYTORCH_CUDA_ALLOC_CONF=expandable_segments:True to avoid fragmentation.  See documentation for Memory Management  (https://pytorch.org/docs/stable/notes/cuda.html#environment-variables)",
     "output_type": "error",
     "traceback": [
      "\u001b[31m---------------------------------------------------------------------------\u001b[39m",
      "\u001b[31mOutOfMemoryError\u001b[39m                          Traceback (most recent call last)",
      "\u001b[36mCell\u001b[39m\u001b[36m \u001b[39m\u001b[32mIn[10]\u001b[39m\u001b[32m, line 58\u001b[39m\n\u001b[32m     55\u001b[39m     \u001b[38;5;28;01mdel\u001b[39;00m model_edm,optimizer_edm\n\u001b[32m     56\u001b[39m     \u001b[38;5;28;01mreturn\u001b[39;00m path\n\u001b[32m---> \u001b[39m\u001b[32m58\u001b[39m \u001b[43mtrain_some\u001b[49m\u001b[43m(\u001b[49m\u001b[43mexperiment_name\u001b[49m\u001b[43m)\u001b[49m\n",
      "\u001b[36mCell\u001b[39m\u001b[36m \u001b[39m\u001b[32mIn[10]\u001b[39m\u001b[32m, line 38\u001b[39m, in \u001b[36mtrain_some\u001b[39m\u001b[34m(experiment_name)\u001b[39m\n\u001b[32m     36\u001b[39m \u001b[38;5;28;01mif\u001b[39;00m \u001b[38;5;129;01mnot\u001b[39;00m os.path.exists(\u001b[33m\"\u001b[39m\u001b[33m/tmp/training_running.txt\u001b[39m\u001b[33m\"\u001b[39m):\n\u001b[32m     37\u001b[39m     \u001b[38;5;28;01mbreak\u001b[39;00m\n\u001b[32m---> \u001b[39m\u001b[32m38\u001b[39m loss = \u001b[43mtrain_a_batch\u001b[49m\u001b[43m(\u001b[49m\u001b[43mmodel_edm\u001b[49m\u001b[43m,\u001b[49m\u001b[43moptimizer_edm\u001b[49m\u001b[43m,\u001b[49m\u001b[43mx\u001b[49m\u001b[43m)\u001b[49m\n\u001b[32m     39\u001b[39m ema.update(model_edm)\n\u001b[32m     40\u001b[39m pbar.set_description(\u001b[33mf\u001b[39m\u001b[33m\"\u001b[39m\u001b[33mEDM Epoch \u001b[39m\u001b[38;5;132;01m{\u001b[39;00mepoch+\u001b[32m1\u001b[39m\u001b[38;5;132;01m}\u001b[39;00m\u001b[33m Loss: \u001b[39m\u001b[38;5;132;01m{\u001b[39;00mloss\u001b[38;5;132;01m:\u001b[39;00m\u001b[33m.4f\u001b[39m\u001b[38;5;132;01m}\u001b[39;00m\u001b[33m\"\u001b[39m)\n",
      "\u001b[36mCell\u001b[39m\u001b[36m \u001b[39m\u001b[32mIn[8]\u001b[39m\u001b[32m, line 24\u001b[39m, in \u001b[36mtrain_a_batch\u001b[39m\u001b[34m(model_edm, optimizer_edm, batch)\u001b[39m\n\u001b[32m     22\u001b[39m \u001b[38;5;66;03m# Model prediction: F_x = net(c_in * y_noisy, c_noise)\u001b[39;00m\n\u001b[32m     23\u001b[39m c_noise_input = c_noise.view(x.shape[\u001b[32m0\u001b[39m])\n\u001b[32m---> \u001b[39m\u001b[32m24\u001b[39m F_x = \u001b[43mmodel_edm\u001b[49m\u001b[43m(\u001b[49m\u001b[43mc_in\u001b[49m\u001b[43m \u001b[49m\u001b[43m*\u001b[49m\u001b[43m \u001b[49m\u001b[43my_noisy\u001b[49m\u001b[43m,\u001b[49m\u001b[43m \u001b[49m\u001b[43mc_noise_input\u001b[49m\u001b[43m)\u001b[49m\n\u001b[32m     26\u001b[39m \u001b[38;5;66;03m# Preconditioning: D_x = c_skip * y_noisy + c_out * F_x\u001b[39;00m\n\u001b[32m     27\u001b[39m D_x = c_skip * y_noisy + c_out * F_x\n",
      "\u001b[36mFile \u001b[39m\u001b[32m~/proj/edm_diffusion_vibe_coding/.venv/lib/python3.12/site-packages/torch/nn/modules/module.py:1773\u001b[39m, in \u001b[36mModule._wrapped_call_impl\u001b[39m\u001b[34m(self, *args, **kwargs)\u001b[39m\n\u001b[32m   1771\u001b[39m     \u001b[38;5;28;01mreturn\u001b[39;00m \u001b[38;5;28mself\u001b[39m._compiled_call_impl(*args, **kwargs)  \u001b[38;5;66;03m# type: ignore[misc]\u001b[39;00m\n\u001b[32m   1772\u001b[39m \u001b[38;5;28;01melse\u001b[39;00m:\n\u001b[32m-> \u001b[39m\u001b[32m1773\u001b[39m     \u001b[38;5;28;01mreturn\u001b[39;00m \u001b[38;5;28;43mself\u001b[39;49m\u001b[43m.\u001b[49m\u001b[43m_call_impl\u001b[49m\u001b[43m(\u001b[49m\u001b[43m*\u001b[49m\u001b[43margs\u001b[49m\u001b[43m,\u001b[49m\u001b[43m \u001b[49m\u001b[43m*\u001b[49m\u001b[43m*\u001b[49m\u001b[43mkwargs\u001b[49m\u001b[43m)\u001b[49m\n",
      "\u001b[36mFile \u001b[39m\u001b[32m~/proj/edm_diffusion_vibe_coding/.venv/lib/python3.12/site-packages/torch/nn/modules/module.py:1784\u001b[39m, in \u001b[36mModule._call_impl\u001b[39m\u001b[34m(self, *args, **kwargs)\u001b[39m\n\u001b[32m   1779\u001b[39m \u001b[38;5;66;03m# If we don't have any hooks, we want to skip the rest of the logic in\u001b[39;00m\n\u001b[32m   1780\u001b[39m \u001b[38;5;66;03m# this function, and just call forward.\u001b[39;00m\n\u001b[32m   1781\u001b[39m \u001b[38;5;28;01mif\u001b[39;00m \u001b[38;5;129;01mnot\u001b[39;00m (\u001b[38;5;28mself\u001b[39m._backward_hooks \u001b[38;5;129;01mor\u001b[39;00m \u001b[38;5;28mself\u001b[39m._backward_pre_hooks \u001b[38;5;129;01mor\u001b[39;00m \u001b[38;5;28mself\u001b[39m._forward_hooks \u001b[38;5;129;01mor\u001b[39;00m \u001b[38;5;28mself\u001b[39m._forward_pre_hooks\n\u001b[32m   1782\u001b[39m         \u001b[38;5;129;01mor\u001b[39;00m _global_backward_pre_hooks \u001b[38;5;129;01mor\u001b[39;00m _global_backward_hooks\n\u001b[32m   1783\u001b[39m         \u001b[38;5;129;01mor\u001b[39;00m _global_forward_hooks \u001b[38;5;129;01mor\u001b[39;00m _global_forward_pre_hooks):\n\u001b[32m-> \u001b[39m\u001b[32m1784\u001b[39m     \u001b[38;5;28;01mreturn\u001b[39;00m \u001b[43mforward_call\u001b[49m\u001b[43m(\u001b[49m\u001b[43m*\u001b[49m\u001b[43margs\u001b[49m\u001b[43m,\u001b[49m\u001b[43m \u001b[49m\u001b[43m*\u001b[49m\u001b[43m*\u001b[49m\u001b[43mkwargs\u001b[49m\u001b[43m)\u001b[49m\n\u001b[32m   1786\u001b[39m result = \u001b[38;5;28;01mNone\u001b[39;00m\n\u001b[32m   1787\u001b[39m called_always_called_hooks = \u001b[38;5;28mset\u001b[39m()\n",
      "\u001b[36mFile \u001b[39m\u001b[32m~/proj/edm_diffusion_vibe_coding/src/elucidated_diffusion/models/claude_diffusion_ViTGradualTransition.py:273\u001b[39m, in \u001b[36mGradualTransitionUNet.forward\u001b[39m\u001b[34m(self, x, t)\u001b[39m\n\u001b[32m    271\u001b[39m d4 = \u001b[38;5;28mself\u001b[39m.dec4(torch.cat([\u001b[38;5;28mself\u001b[39m.up(m), e4], dim=\u001b[32m1\u001b[39m), t_emb)      \u001b[38;5;66;03m# Pure ViT\u001b[39;00m\n\u001b[32m    272\u001b[39m d3 = \u001b[38;5;28mself\u001b[39m.dec3(torch.cat([\u001b[38;5;28mself\u001b[39m.up(d4), e3], dim=\u001b[32m1\u001b[39m), t_emb)     \u001b[38;5;66;03m# Heavy hybrid\u001b[39;00m\n\u001b[32m--> \u001b[39m\u001b[32m273\u001b[39m d2 = \u001b[38;5;28;43mself\u001b[39;49m\u001b[43m.\u001b[49m\u001b[43mdec2\u001b[49m\u001b[43m(\u001b[49m\u001b[43mtorch\u001b[49m\u001b[43m.\u001b[49m\u001b[43mcat\u001b[49m\u001b[43m(\u001b[49m\u001b[43m[\u001b[49m\u001b[38;5;28;43mself\u001b[39;49m\u001b[43m.\u001b[49m\u001b[43mup\u001b[49m\u001b[43m(\u001b[49m\u001b[43md3\u001b[49m\u001b[43m)\u001b[49m\u001b[43m,\u001b[49m\u001b[43m \u001b[49m\u001b[43me2\u001b[49m\u001b[43m]\u001b[49m\u001b[43m,\u001b[49m\u001b[43m \u001b[49m\u001b[43mdim\u001b[49m\u001b[43m=\u001b[49m\u001b[32;43m1\u001b[39;49m\u001b[43m)\u001b[49m\u001b[43m,\u001b[49m\u001b[43m \u001b[49m\u001b[43mt_emb\u001b[49m\u001b[43m)\u001b[49m     \u001b[38;5;66;03m# Light hybrid  \u001b[39;00m\n\u001b[32m    274\u001b[39m d1 = \u001b[38;5;28mself\u001b[39m.dec1(torch.cat([\u001b[38;5;28mself\u001b[39m.up(d2), e1], dim=\u001b[32m1\u001b[39m), t_emb)     \u001b[38;5;66;03m# Pure conv\u001b[39;00m\n\u001b[32m    276\u001b[39m \u001b[38;5;28;01mreturn\u001b[39;00m \u001b[38;5;28mself\u001b[39m.outc(d1)\n",
      "\u001b[36mFile \u001b[39m\u001b[32m~/proj/edm_diffusion_vibe_coding/.venv/lib/python3.12/site-packages/torch/nn/modules/module.py:1773\u001b[39m, in \u001b[36mModule._wrapped_call_impl\u001b[39m\u001b[34m(self, *args, **kwargs)\u001b[39m\n\u001b[32m   1771\u001b[39m     \u001b[38;5;28;01mreturn\u001b[39;00m \u001b[38;5;28mself\u001b[39m._compiled_call_impl(*args, **kwargs)  \u001b[38;5;66;03m# type: ignore[misc]\u001b[39;00m\n\u001b[32m   1772\u001b[39m \u001b[38;5;28;01melse\u001b[39;00m:\n\u001b[32m-> \u001b[39m\u001b[32m1773\u001b[39m     \u001b[38;5;28;01mreturn\u001b[39;00m \u001b[38;5;28;43mself\u001b[39;49m\u001b[43m.\u001b[49m\u001b[43m_call_impl\u001b[49m\u001b[43m(\u001b[49m\u001b[43m*\u001b[49m\u001b[43margs\u001b[49m\u001b[43m,\u001b[49m\u001b[43m \u001b[49m\u001b[43m*\u001b[49m\u001b[43m*\u001b[49m\u001b[43mkwargs\u001b[49m\u001b[43m)\u001b[49m\n",
      "\u001b[36mFile \u001b[39m\u001b[32m~/proj/edm_diffusion_vibe_coding/.venv/lib/python3.12/site-packages/torch/nn/modules/module.py:1784\u001b[39m, in \u001b[36mModule._call_impl\u001b[39m\u001b[34m(self, *args, **kwargs)\u001b[39m\n\u001b[32m   1779\u001b[39m \u001b[38;5;66;03m# If we don't have any hooks, we want to skip the rest of the logic in\u001b[39;00m\n\u001b[32m   1780\u001b[39m \u001b[38;5;66;03m# this function, and just call forward.\u001b[39;00m\n\u001b[32m   1781\u001b[39m \u001b[38;5;28;01mif\u001b[39;00m \u001b[38;5;129;01mnot\u001b[39;00m (\u001b[38;5;28mself\u001b[39m._backward_hooks \u001b[38;5;129;01mor\u001b[39;00m \u001b[38;5;28mself\u001b[39m._backward_pre_hooks \u001b[38;5;129;01mor\u001b[39;00m \u001b[38;5;28mself\u001b[39m._forward_hooks \u001b[38;5;129;01mor\u001b[39;00m \u001b[38;5;28mself\u001b[39m._forward_pre_hooks\n\u001b[32m   1782\u001b[39m         \u001b[38;5;129;01mor\u001b[39;00m _global_backward_pre_hooks \u001b[38;5;129;01mor\u001b[39;00m _global_backward_hooks\n\u001b[32m   1783\u001b[39m         \u001b[38;5;129;01mor\u001b[39;00m _global_forward_hooks \u001b[38;5;129;01mor\u001b[39;00m _global_forward_pre_hooks):\n\u001b[32m-> \u001b[39m\u001b[32m1784\u001b[39m     \u001b[38;5;28;01mreturn\u001b[39;00m \u001b[43mforward_call\u001b[49m\u001b[43m(\u001b[49m\u001b[43m*\u001b[49m\u001b[43margs\u001b[49m\u001b[43m,\u001b[49m\u001b[43m \u001b[49m\u001b[43m*\u001b[49m\u001b[43m*\u001b[49m\u001b[43mkwargs\u001b[49m\u001b[43m)\u001b[49m\n\u001b[32m   1786\u001b[39m result = \u001b[38;5;28;01mNone\u001b[39;00m\n\u001b[32m   1787\u001b[39m called_always_called_hooks = \u001b[38;5;28mset\u001b[39m()\n",
      "\u001b[36mFile \u001b[39m\u001b[32m~/proj/edm_diffusion_vibe_coding/src/elucidated_diffusion/models/claude_diffusion_ViTGradualTransition.py:158\u001b[39m, in \u001b[36mHybridBlock.forward\u001b[39m\u001b[34m(self, x, t_emb)\u001b[39m\n\u001b[32m    156\u001b[39m h_conv = \u001b[38;5;28mself\u001b[39m.conv_block(x, t_emb)\n\u001b[32m    157\u001b[39m \u001b[38;5;66;03m# Attention processing\u001b[39;00m\n\u001b[32m--> \u001b[39m\u001b[32m158\u001b[39m h_attn = \u001b[38;5;28;43mself\u001b[39;49m\u001b[43m.\u001b[49m\u001b[43mattention\u001b[49m\u001b[43m(\u001b[49m\u001b[43mh_conv\u001b[49m\u001b[43m)\u001b[49m\n\u001b[32m    159\u001b[39m \u001b[38;5;66;03m# Weighted combination (gradually favor attention in deeper layers)\u001b[39;00m\n\u001b[32m    160\u001b[39m \u001b[38;5;28;01mreturn\u001b[39;00m h_conv * (\u001b[32m1\u001b[39m - \u001b[38;5;28mself\u001b[39m.attention_ratio) + h_attn * \u001b[38;5;28mself\u001b[39m.attention_ratio\n",
      "\u001b[36mFile \u001b[39m\u001b[32m~/proj/edm_diffusion_vibe_coding/.venv/lib/python3.12/site-packages/torch/nn/modules/module.py:1773\u001b[39m, in \u001b[36mModule._wrapped_call_impl\u001b[39m\u001b[34m(self, *args, **kwargs)\u001b[39m\n\u001b[32m   1771\u001b[39m     \u001b[38;5;28;01mreturn\u001b[39;00m \u001b[38;5;28mself\u001b[39m._compiled_call_impl(*args, **kwargs)  \u001b[38;5;66;03m# type: ignore[misc]\u001b[39;00m\n\u001b[32m   1772\u001b[39m \u001b[38;5;28;01melse\u001b[39;00m:\n\u001b[32m-> \u001b[39m\u001b[32m1773\u001b[39m     \u001b[38;5;28;01mreturn\u001b[39;00m \u001b[38;5;28;43mself\u001b[39;49m\u001b[43m.\u001b[49m\u001b[43m_call_impl\u001b[49m\u001b[43m(\u001b[49m\u001b[43m*\u001b[49m\u001b[43margs\u001b[49m\u001b[43m,\u001b[49m\u001b[43m \u001b[49m\u001b[43m*\u001b[49m\u001b[43m*\u001b[49m\u001b[43mkwargs\u001b[49m\u001b[43m)\u001b[49m\n",
      "\u001b[36mFile \u001b[39m\u001b[32m~/proj/edm_diffusion_vibe_coding/.venv/lib/python3.12/site-packages/torch/nn/modules/module.py:1784\u001b[39m, in \u001b[36mModule._call_impl\u001b[39m\u001b[34m(self, *args, **kwargs)\u001b[39m\n\u001b[32m   1779\u001b[39m \u001b[38;5;66;03m# If we don't have any hooks, we want to skip the rest of the logic in\u001b[39;00m\n\u001b[32m   1780\u001b[39m \u001b[38;5;66;03m# this function, and just call forward.\u001b[39;00m\n\u001b[32m   1781\u001b[39m \u001b[38;5;28;01mif\u001b[39;00m \u001b[38;5;129;01mnot\u001b[39;00m (\u001b[38;5;28mself\u001b[39m._backward_hooks \u001b[38;5;129;01mor\u001b[39;00m \u001b[38;5;28mself\u001b[39m._backward_pre_hooks \u001b[38;5;129;01mor\u001b[39;00m \u001b[38;5;28mself\u001b[39m._forward_hooks \u001b[38;5;129;01mor\u001b[39;00m \u001b[38;5;28mself\u001b[39m._forward_pre_hooks\n\u001b[32m   1782\u001b[39m         \u001b[38;5;129;01mor\u001b[39;00m _global_backward_pre_hooks \u001b[38;5;129;01mor\u001b[39;00m _global_backward_hooks\n\u001b[32m   1783\u001b[39m         \u001b[38;5;129;01mor\u001b[39;00m _global_forward_hooks \u001b[38;5;129;01mor\u001b[39;00m _global_forward_pre_hooks):\n\u001b[32m-> \u001b[39m\u001b[32m1784\u001b[39m     \u001b[38;5;28;01mreturn\u001b[39;00m \u001b[43mforward_call\u001b[49m\u001b[43m(\u001b[49m\u001b[43m*\u001b[49m\u001b[43margs\u001b[49m\u001b[43m,\u001b[49m\u001b[43m \u001b[49m\u001b[43m*\u001b[49m\u001b[43m*\u001b[49m\u001b[43mkwargs\u001b[49m\u001b[43m)\u001b[49m\n\u001b[32m   1786\u001b[39m result = \u001b[38;5;28;01mNone\u001b[39;00m\n\u001b[32m   1787\u001b[39m called_always_called_hooks = \u001b[38;5;28mset\u001b[39m()\n",
      "\u001b[36mFile \u001b[39m\u001b[32m~/proj/edm_diffusion_vibe_coding/src/elucidated_diffusion/models/claude_diffusion_ViTGradualTransition.py:125\u001b[39m, in \u001b[36mEfficientAttention.forward\u001b[39m\u001b[34m(self, x)\u001b[39m\n\u001b[32m    122\u001b[39m q, k, v = qkv[\u001b[32m0\u001b[39m], qkv[\u001b[32m1\u001b[39m], qkv[\u001b[32m2\u001b[39m]\n\u001b[32m    124\u001b[39m \u001b[38;5;66;03m# Use scaled dot-product attention\u001b[39;00m\n\u001b[32m--> \u001b[39m\u001b[32m125\u001b[39m attn = \u001b[43m(\u001b[49m\u001b[43mq\u001b[49m\u001b[43m \u001b[49m\u001b[43m@\u001b[49m\u001b[43m \u001b[49m\u001b[43mk\u001b[49m\u001b[43m.\u001b[49m\u001b[43mtranspose\u001b[49m\u001b[43m(\u001b[49m\u001b[43m-\u001b[49m\u001b[32;43m2\u001b[39;49m\u001b[43m,\u001b[49m\u001b[43m \u001b[49m\u001b[43m-\u001b[49m\u001b[32;43m1\u001b[39;49m\u001b[43m)\u001b[49m\u001b[43m)\u001b[49m\u001b[43m \u001b[49m\u001b[43m*\u001b[49m\u001b[43m \u001b[49m\u001b[38;5;28;43mself\u001b[39;49m\u001b[43m.\u001b[49m\u001b[43mscale\u001b[49m\n\u001b[32m    126\u001b[39m attn = F.softmax(attn, dim=-\u001b[32m1\u001b[39m)\n\u001b[32m    128\u001b[39m out = (attn @ v).transpose(-\u001b[32m2\u001b[39m, -\u001b[32m1\u001b[39m).reshape(B, C, H, W)\n",
      "\u001b[31mOutOfMemoryError\u001b[39m: CUDA out of memory. Tried to allocate 384.00 MiB. GPU 0 has a total capacity of 5.78 GiB of which 51.06 MiB is free. Process 3803929 has 2.99 GiB memory in use. Including non-PyTorch memory, this process has 1.59 GiB memory in use. Of the allocated memory 1.31 GiB is allocated by PyTorch, and 187.39 MiB is reserved by PyTorch but unallocated. If reserved but unallocated memory is large try setting PYTORCH_CUDA_ALLOC_CONF=expandable_segments:True to avoid fragmentation.  See documentation for Memory Management  (https://pytorch.org/docs/stable/notes/cuda.html#environment-variables)"
     ]
    }
   ],
   "source": [
    "\n",
    "def train_some(experiment_name):\n",
    "   \n",
    "    #model_edm = UNet128(use_attention=True).to(device)\n",
    "    #model_edm = create_vit_enhanced_unet(\"lightweight\").to(device)\n",
    "    #model_edm = create_gradual_transition_unet(\"minimal\").to(device)\n",
    "    model_edm = create_gradual_transition_unet(\"efficient\").to(device)\n",
    "    optimizer_edm = optim.Adam(model_edm.parameters(), lr=2e-4)\n",
    "    train_dataset,_ = get_datasets(experiment_name)\n",
    "    batch_size = 12\n",
    "    train_loader = DataLoader(train_dataset, batch_size=batch_size, shuffle=True, num_workers=0)\n",
    "\n",
    "\n",
    "    if resume:=False and diffusion_weights:\n",
    "        load_checkpoint(model=model_edm, optimizer=optimizer_edm, path=diffusion_weights)\n",
    "    \n",
    "    ema = EMAHelper(model_edm)\n",
    "\n",
    "    t0 = time.time()\n",
    "    next_display_time = t0\n",
    "    display_interval = 30*2\n",
    "    next_display_time = time.time()\n",
    "    checkpoint_interval = 60 * 60\n",
    "    next_checkpoint_time = time.time() + checkpoint_interval\n",
    "    timestamp = datetime.now().strftime(\"%Y-%m-%d_%H-%M-%S\")\n",
    "\n",
    "    image_path = f\"outputs/{timestamp}_{model_edm.__class__.__name__}_{experiment_name}_size=efficient.html\"\n",
    "\n",
    "    os.makedirs(\"outputs\", exist_ok=True)\n",
    "    with open(\"/tmp/training_running.txt\",\"w\"):\n",
    "        pass\n",
    "    for epoch in range(999999):\n",
    "        pbar = tqdm(train_loader)\n",
    "        if not os.path.exists(\"/tmp/training_running.txt\"):\n",
    "            break\n",
    "        for x, _ in pbar:\n",
    "            if not os.path.exists(\"/tmp/training_running.txt\"):\n",
    "                break\n",
    "            loss = train_a_batch(model_edm,optimizer_edm,x)\n",
    "            ema.update(model_edm)\n",
    "            pbar.set_description(f\"EDM Epoch {epoch+1} Loss: {loss:.4f}\")\n",
    "            if time.time() > next_checkpoint_time:\n",
    "                save_checkpoint(model_edm, optimizer_edm, epoch, loss, tag=experiment_name+\"_efficient\")\n",
    "                next_checkpoint_time = time.time() + checkpoint_interval\n",
    "            if time.time() > next_display_time:\n",
    "\n",
    "                next_display_time += display_interval\n",
    "                dt = time.strftime('%H:%M:%S', time.gmtime(time.time() - t0))\n",
    "                h = sample_html(ema.get_model(),title=f\"EDM at {dt} loss {loss:.4f} ({timestamp})\")\n",
    "                with open(image_path,\"a\") as f:\n",
    "                    f.write(h)\n",
    "                ipd.clear_output(wait=True)\n",
    "                ipd.display(ipd.HTML(h))\n",
    "    path = save_checkpoint(model_edm, optimizer_edm, epoch, loss, tag=experiment_name+\"_efficient\")\n",
    "    path = save_checkpoint(ema.get_model(), optimizer_edm, epoch, loss, tag=experiment_name+\"_efficient\"+\"_ema\")\n",
    "    del model_edm,optimizer_edm\n",
    "    return path\n",
    "\n",
    "train_some(experiment_name)\n",
    "        "
   ]
  },
  {
   "cell_type": "markdown",
   "id": "dc2b7db6",
   "metadata": {},
   "source": [
    "## Inferrence"
   ]
  },
  {
   "cell_type": "code",
   "execution_count": null,
   "id": "2682c462",
   "metadata": {},
   "outputs": [],
   "source": [
    "#diffusion_weights = \"checkpoints/UNet128_2025-09-08_17-57-30_cats_and_dogs.pth\"\n",
    "#diffusion_weights = \"checkpoints/UNet128_2025-09-09_06-38-40_fantasy.pth\"\n",
    "#load_checkpoint(model_edm, optimizer_edm, diffusion_weights)\n",
    "\n",
    "def generate_html_examples(cp=\"checkpoints/UNet128_2025-09-12_19-47-15_dragon.pth\",batch_size=12):\n",
    "    with torch.no_grad():\n",
    "        model_edm = UNet128(use_attention=True).to(device)\n",
    "        optimizer_edm = None\n",
    "        load_checkpoint(model_edm, optimizer_edm, cp)\n",
    "        h = sample_html(model_edm,title=f\"Samples from {cp}\",min_height=256, batch_size=batch_size)\n",
    "        ipd.display(ipd.HTML(h))\n",
    "        model_edm.to('cpu')\n",
    "        \n",
    "\n"
   ]
  },
  {
   "cell_type": "code",
   "execution_count": null,
   "id": "ea48f943",
   "metadata": {},
   "outputs": [
    {
     "ename": "NameError",
     "evalue": "name 'UNet128' is not defined",
     "output_type": "error",
     "traceback": [
      "\u001b[31m---------------------------------------------------------------------------\u001b[39m",
      "\u001b[31mNameError\u001b[39m                                 Traceback (most recent call last)",
      "\u001b[36mCell\u001b[39m\u001b[36m \u001b[39m\u001b[32mIn[11]\u001b[39m\u001b[32m, line 1\u001b[39m\n\u001b[32m----> \u001b[39m\u001b[32m1\u001b[39m \u001b[43mgenerate_html_examples\u001b[49m\u001b[43m(\u001b[49m\u001b[43mcp\u001b[49m\u001b[43m=\u001b[49m\u001b[33;43m\"\u001b[39;49m\u001b[33;43mcheckpoints/UNet128_2025-09-14_02-20-07_fantasy.pth\u001b[39;49m\u001b[33;43m\"\u001b[39;49m\u001b[43m,\u001b[49m\u001b[43mbatch_size\u001b[49m\u001b[43m=\u001b[49m\u001b[32;43m6\u001b[39;49m\u001b[43m)\u001b[49m\n",
      "\u001b[36mCell\u001b[39m\u001b[36m \u001b[39m\u001b[32mIn[10]\u001b[39m\u001b[32m, line 7\u001b[39m, in \u001b[36mgenerate_html_examples\u001b[39m\u001b[34m(cp, batch_size)\u001b[39m\n\u001b[32m      5\u001b[39m \u001b[38;5;28;01mdef\u001b[39;00m\u001b[38;5;250m \u001b[39m\u001b[34mgenerate_html_examples\u001b[39m(cp=\u001b[33m\"\u001b[39m\u001b[33mcheckpoints/UNet128_2025-09-12_19-47-15_dragon.pth\u001b[39m\u001b[33m\"\u001b[39m,batch_size=\u001b[32m12\u001b[39m):\n\u001b[32m      6\u001b[39m     \u001b[38;5;28;01mwith\u001b[39;00m torch.no_grad():\n\u001b[32m----> \u001b[39m\u001b[32m7\u001b[39m         model_edm = \u001b[43mUNet128\u001b[49m(use_attention=\u001b[38;5;28;01mTrue\u001b[39;00m).to(device)\n\u001b[32m      8\u001b[39m         optimizer_edm = \u001b[38;5;28;01mNone\u001b[39;00m\n\u001b[32m      9\u001b[39m         load_checkpoint(model_edm, optimizer_edm, cp)\n",
      "\u001b[31mNameError\u001b[39m: name 'UNet128' is not defined"
     ]
    }
   ],
   "source": [
    "generate_html_examples(cp=\"checkpoints/UNet128_2025-09-14_02-20-07_fantasy.pth\",batch_size=6)"
   ]
  },
  {
   "cell_type": "code",
   "execution_count": null,
   "id": "af3d9880",
   "metadata": {},
   "outputs": [
    {
     "name": "stdout",
     "output_type": "stream",
     "text": [
      "🔄 Loaded checkpoint from checkpoints/UNet128_2025-09-14_02-09-02_dragon.pth\n",
      "    Epoch: 1, Loss: 0.1339804232120514\n",
      "    Model class: UNet128\n"
     ]
    },
    {
     "data": {
      "text/html": [
       "\n",
       "    <h2>Samples from checkpoints/UNet128_2025-09-14_02-09-02_dragon.pth</h2>\n",
       "    <div style=\"display: flex; flex-wrap: wrap; gap: 2px;\">\n",
       "    \n",
       "        <div style=\"flex: 0 0 auto;\">\n",
       "            <img src=\"data:image/png;base64,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\" style=\"min-width: 256px;\"/>\n",
       "        </div>\n",
       "        \n",
       "        <div style=\"flex: 0 0 auto;\">\n",
       "            <img src=\"data:image/png;base64,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\" style=\"min-width: 256px;\"/>\n",
       "        </div>\n",
       "        \n",
       "        <div style=\"flex: 0 0 auto;\">\n",
       "            <img src=\"data:image/png;base64,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\" style=\"min-width: 256px;\"/>\n",
       "        </div>\n",
       "        \n",
       "        <div style=\"flex: 0 0 auto;\">\n",
       "            <img src=\"data:image/png;base64,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\" style=\"min-width: 256px;\"/>\n",
       "        </div>\n",
       "        \n",
       "        <div style=\"flex: 0 0 auto;\">\n",
       "            <img src=\"data:image/png;base64,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\" style=\"min-width: 256px;\"/>\n",
       "        </div>\n",
       "        \n",
       "        <div style=\"flex: 0 0 auto;\">\n",
       "            <img src=\"data:image/png;base64,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\" style=\"min-width: 256px;\"/>\n",
       "        </div>\n",
       "        </div>"
      ],
      "text/plain": [
       "<IPython.core.display.HTML object>"
      ]
     },
     "metadata": {},
     "output_type": "display_data"
    }
   ],
   "source": [
    "generate_html_examples(cp=\"checkpoints/UNet128_2025-09-14_02-09-02_dragon.pth\",batch_size=6)"
   ]
  }
 ],
 "metadata": {
  "kernelspec": {
   "display_name": "edm_diffusion_vibe_coding",
   "language": "python",
   "name": "python3"
  },
  "language_info": {
   "codemirror_mode": {
    "name": "ipython",
    "version": 3
   },
   "file_extension": ".py",
   "mimetype": "text/x-python",
   "name": "python",
   "nbconvert_exporter": "python",
   "pygments_lexer": "ipython3",
   "version": "3.12.4"
  }
 },
 "nbformat": 4,
 "nbformat_minor": 5
}
